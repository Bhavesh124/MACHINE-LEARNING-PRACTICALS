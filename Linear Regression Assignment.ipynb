{
 "cells": [
  {
   "cell_type": "markdown",
   "id": "32e5f8eb",
   "metadata": {},
   "source": [
    "# Algerian Forest Fire Dataset-Temperature Prediction"
   ]
  },
  {
   "cell_type": "markdown",
   "id": "0db517aa",
   "metadata": {},
   "source": [
    "Attribute Information:\n",
    "\n",
    "1. Date : (DD/MM/YYYY) Day, month ('june' to 'september'), year (2012)\n",
    "Weather data observations\n",
    "2. Temp : temperature noon (temperature max) in Celsius degrees: 22 to 42\n",
    "3. RH : Relative Humidity in %: 21 to 90\n",
    "4. Ws :Wind speed in km/h: 6 to 29\n",
    "5. Rain: total day in mm: 0 to 16.8\n",
    "FWI Components\n",
    "6. Fine Fuel Moisture Code (FFMC) index from the FWI system: 28.6 to 92.5\n",
    "7. Duff Moisture Code (DMC) index from the FWI system: 1.1 to 65.9\n",
    "8. Drought Code (DC) index from the FWI system: 7 to 220.4\n",
    "9. Initial Spread Index (ISI) index from the FWI system: 0 to 18.5\n",
    "10. Buildup Index (BUI) index from the FWI system: 1.1 to 68\n",
    "11. Fire Weather Index (FWI) Index: 0 to 31.1\n",
    "12. Classes: two classes, namely â€œFireâ€ and â€œnot Fireâ€"
   ]
  },
  {
   "cell_type": "code",
   "execution_count": 1,
   "id": "f50ab657",
   "metadata": {},
   "outputs": [],
   "source": [
    "import pandas as pd\n",
    "import numpy as np\n",
    "import seaborn as sns\n",
    "import matplotlib.pyplot as plt\n",
    "import warnings\n",
    "%matplotlib inline\n",
    "warnings.filterwarnings('ignore')"
   ]
  },
  {
   "cell_type": "code",
   "execution_count": 2,
   "id": "a0cfdfc7",
   "metadata": {},
   "outputs": [],
   "source": [
    "df = pd.read_csv(r\"C:\\Users\\Suyash\\Downloads\\Algerian_forest_fires_dataset_UPDATE.csv\",skiprows=1)"
   ]
  },
  {
   "cell_type": "code",
   "execution_count": 3,
   "id": "d034390f",
   "metadata": {},
   "outputs": [
    {
     "data": {
      "text/html": [
       "<div>\n",
       "<style scoped>\n",
       "    .dataframe tbody tr th:only-of-type {\n",
       "        vertical-align: middle;\n",
       "    }\n",
       "\n",
       "    .dataframe tbody tr th {\n",
       "        vertical-align: top;\n",
       "    }\n",
       "\n",
       "    .dataframe thead th {\n",
       "        text-align: right;\n",
       "    }\n",
       "</style>\n",
       "<table border=\"1\" class=\"dataframe\">\n",
       "  <thead>\n",
       "    <tr style=\"text-align: right;\">\n",
       "      <th></th>\n",
       "      <th>day</th>\n",
       "      <th>month</th>\n",
       "      <th>year</th>\n",
       "      <th>Temperature</th>\n",
       "      <th>RH</th>\n",
       "      <th>Ws</th>\n",
       "      <th>Rain</th>\n",
       "      <th>FFMC</th>\n",
       "      <th>DMC</th>\n",
       "      <th>DC</th>\n",
       "      <th>ISI</th>\n",
       "      <th>BUI</th>\n",
       "      <th>FWI</th>\n",
       "      <th>Classes</th>\n",
       "    </tr>\n",
       "  </thead>\n",
       "  <tbody>\n",
       "    <tr>\n",
       "      <th>0</th>\n",
       "      <td>01</td>\n",
       "      <td>06</td>\n",
       "      <td>2012</td>\n",
       "      <td>29</td>\n",
       "      <td>57</td>\n",
       "      <td>18</td>\n",
       "      <td>0</td>\n",
       "      <td>65.7</td>\n",
       "      <td>3.4</td>\n",
       "      <td>7.6</td>\n",
       "      <td>1.3</td>\n",
       "      <td>3.4</td>\n",
       "      <td>0.5</td>\n",
       "      <td>not fire</td>\n",
       "    </tr>\n",
       "    <tr>\n",
       "      <th>1</th>\n",
       "      <td>02</td>\n",
       "      <td>06</td>\n",
       "      <td>2012</td>\n",
       "      <td>29</td>\n",
       "      <td>61</td>\n",
       "      <td>13</td>\n",
       "      <td>1.3</td>\n",
       "      <td>64.4</td>\n",
       "      <td>4.1</td>\n",
       "      <td>7.6</td>\n",
       "      <td>1</td>\n",
       "      <td>3.9</td>\n",
       "      <td>0.4</td>\n",
       "      <td>not fire</td>\n",
       "    </tr>\n",
       "    <tr>\n",
       "      <th>2</th>\n",
       "      <td>03</td>\n",
       "      <td>06</td>\n",
       "      <td>2012</td>\n",
       "      <td>26</td>\n",
       "      <td>82</td>\n",
       "      <td>22</td>\n",
       "      <td>13.1</td>\n",
       "      <td>47.1</td>\n",
       "      <td>2.5</td>\n",
       "      <td>7.1</td>\n",
       "      <td>0.3</td>\n",
       "      <td>2.7</td>\n",
       "      <td>0.1</td>\n",
       "      <td>not fire</td>\n",
       "    </tr>\n",
       "    <tr>\n",
       "      <th>3</th>\n",
       "      <td>04</td>\n",
       "      <td>06</td>\n",
       "      <td>2012</td>\n",
       "      <td>25</td>\n",
       "      <td>89</td>\n",
       "      <td>13</td>\n",
       "      <td>2.5</td>\n",
       "      <td>28.6</td>\n",
       "      <td>1.3</td>\n",
       "      <td>6.9</td>\n",
       "      <td>0</td>\n",
       "      <td>1.7</td>\n",
       "      <td>0</td>\n",
       "      <td>not fire</td>\n",
       "    </tr>\n",
       "    <tr>\n",
       "      <th>4</th>\n",
       "      <td>05</td>\n",
       "      <td>06</td>\n",
       "      <td>2012</td>\n",
       "      <td>27</td>\n",
       "      <td>77</td>\n",
       "      <td>16</td>\n",
       "      <td>0</td>\n",
       "      <td>64.8</td>\n",
       "      <td>3</td>\n",
       "      <td>14.2</td>\n",
       "      <td>1.2</td>\n",
       "      <td>3.9</td>\n",
       "      <td>0.5</td>\n",
       "      <td>not fire</td>\n",
       "    </tr>\n",
       "    <tr>\n",
       "      <th>...</th>\n",
       "      <td>...</td>\n",
       "      <td>...</td>\n",
       "      <td>...</td>\n",
       "      <td>...</td>\n",
       "      <td>...</td>\n",
       "      <td>...</td>\n",
       "      <td>...</td>\n",
       "      <td>...</td>\n",
       "      <td>...</td>\n",
       "      <td>...</td>\n",
       "      <td>...</td>\n",
       "      <td>...</td>\n",
       "      <td>...</td>\n",
       "      <td>...</td>\n",
       "    </tr>\n",
       "    <tr>\n",
       "      <th>241</th>\n",
       "      <td>26</td>\n",
       "      <td>09</td>\n",
       "      <td>2012</td>\n",
       "      <td>30</td>\n",
       "      <td>65</td>\n",
       "      <td>14</td>\n",
       "      <td>0</td>\n",
       "      <td>85.4</td>\n",
       "      <td>16</td>\n",
       "      <td>44.5</td>\n",
       "      <td>4.5</td>\n",
       "      <td>16.9</td>\n",
       "      <td>6.5</td>\n",
       "      <td>fire</td>\n",
       "    </tr>\n",
       "    <tr>\n",
       "      <th>242</th>\n",
       "      <td>27</td>\n",
       "      <td>09</td>\n",
       "      <td>2012</td>\n",
       "      <td>28</td>\n",
       "      <td>87</td>\n",
       "      <td>15</td>\n",
       "      <td>4.4</td>\n",
       "      <td>41.1</td>\n",
       "      <td>6.5</td>\n",
       "      <td>8</td>\n",
       "      <td>0.1</td>\n",
       "      <td>6.2</td>\n",
       "      <td>0</td>\n",
       "      <td>not fire</td>\n",
       "    </tr>\n",
       "    <tr>\n",
       "      <th>243</th>\n",
       "      <td>28</td>\n",
       "      <td>09</td>\n",
       "      <td>2012</td>\n",
       "      <td>27</td>\n",
       "      <td>87</td>\n",
       "      <td>29</td>\n",
       "      <td>0.5</td>\n",
       "      <td>45.9</td>\n",
       "      <td>3.5</td>\n",
       "      <td>7.9</td>\n",
       "      <td>0.4</td>\n",
       "      <td>3.4</td>\n",
       "      <td>0.2</td>\n",
       "      <td>not fire</td>\n",
       "    </tr>\n",
       "    <tr>\n",
       "      <th>244</th>\n",
       "      <td>29</td>\n",
       "      <td>09</td>\n",
       "      <td>2012</td>\n",
       "      <td>24</td>\n",
       "      <td>54</td>\n",
       "      <td>18</td>\n",
       "      <td>0.1</td>\n",
       "      <td>79.7</td>\n",
       "      <td>4.3</td>\n",
       "      <td>15.2</td>\n",
       "      <td>1.7</td>\n",
       "      <td>5.1</td>\n",
       "      <td>0.7</td>\n",
       "      <td>not fire</td>\n",
       "    </tr>\n",
       "    <tr>\n",
       "      <th>245</th>\n",
       "      <td>30</td>\n",
       "      <td>09</td>\n",
       "      <td>2012</td>\n",
       "      <td>24</td>\n",
       "      <td>64</td>\n",
       "      <td>15</td>\n",
       "      <td>0.2</td>\n",
       "      <td>67.3</td>\n",
       "      <td>3.8</td>\n",
       "      <td>16.5</td>\n",
       "      <td>1.2</td>\n",
       "      <td>4.8</td>\n",
       "      <td>0.5</td>\n",
       "      <td>not fire</td>\n",
       "    </tr>\n",
       "  </tbody>\n",
       "</table>\n",
       "<p>246 rows × 14 columns</p>\n",
       "</div>"
      ],
      "text/plain": [
       "    day month  year Temperature  RH  Ws Rain   FFMC  DMC    DC  ISI   BUI  \\\n",
       "0    01    06  2012          29  57  18     0  65.7  3.4   7.6  1.3   3.4   \n",
       "1    02    06  2012          29  61  13   1.3  64.4  4.1   7.6    1   3.9   \n",
       "2    03    06  2012          26  82  22  13.1  47.1  2.5   7.1  0.3   2.7   \n",
       "3    04    06  2012          25  89  13   2.5  28.6  1.3   6.9    0   1.7   \n",
       "4    05    06  2012          27  77  16     0  64.8    3  14.2  1.2   3.9   \n",
       "..   ..   ...   ...         ...  ..  ..   ...   ...  ...   ...  ...   ...   \n",
       "241  26    09  2012          30  65  14     0  85.4   16  44.5  4.5  16.9   \n",
       "242  27    09  2012          28  87  15   4.4  41.1  6.5     8  0.1   6.2   \n",
       "243  28    09  2012          27  87  29   0.5  45.9  3.5   7.9  0.4   3.4   \n",
       "244  29    09  2012          24  54  18   0.1  79.7  4.3  15.2  1.7   5.1   \n",
       "245  30    09  2012          24  64  15   0.2  67.3  3.8  16.5  1.2   4.8   \n",
       "\n",
       "     FWI     Classes    \n",
       "0    0.5   not fire     \n",
       "1    0.4   not fire     \n",
       "2    0.1   not fire     \n",
       "3      0   not fire     \n",
       "4    0.5   not fire     \n",
       "..   ...           ...  \n",
       "241  6.5       fire     \n",
       "242    0   not fire     \n",
       "243  0.2   not fire     \n",
       "244  0.7   not fire     \n",
       "245  0.5  not fire      \n",
       "\n",
       "[246 rows x 14 columns]"
      ]
     },
     "execution_count": 3,
     "metadata": {},
     "output_type": "execute_result"
    }
   ],
   "source": [
    "df"
   ]
  },
  {
   "cell_type": "code",
   "execution_count": 4,
   "id": "4c46e614",
   "metadata": {},
   "outputs": [
    {
     "data": {
      "text/plain": [
       "day            object\n",
       "month          object\n",
       "year           object\n",
       "Temperature    object\n",
       " RH            object\n",
       " Ws            object\n",
       "Rain           object\n",
       "FFMC           object\n",
       "DMC            object\n",
       "DC             object\n",
       "ISI            object\n",
       "BUI            object\n",
       "FWI            object\n",
       "Classes        object\n",
       "dtype: object"
      ]
     },
     "execution_count": 4,
     "metadata": {},
     "output_type": "execute_result"
    }
   ],
   "source": [
    "df.dtypes"
   ]
  },
  {
   "cell_type": "code",
   "execution_count": 5,
   "id": "951cfda4",
   "metadata": {},
   "outputs": [
    {
     "name": "stdout",
     "output_type": "stream",
     "text": [
      "<class 'pandas.core.frame.DataFrame'>\n",
      "RangeIndex: 246 entries, 0 to 245\n",
      "Data columns (total 14 columns):\n",
      " #   Column       Non-Null Count  Dtype \n",
      "---  ------       --------------  ----- \n",
      " 0   day          246 non-null    object\n",
      " 1   month        245 non-null    object\n",
      " 2   year         245 non-null    object\n",
      " 3   Temperature  245 non-null    object\n",
      " 4    RH          245 non-null    object\n",
      " 5    Ws          245 non-null    object\n",
      " 6   Rain         245 non-null    object\n",
      " 7   FFMC         245 non-null    object\n",
      " 8   DMC          245 non-null    object\n",
      " 9   DC           245 non-null    object\n",
      " 10  ISI          245 non-null    object\n",
      " 11  BUI          245 non-null    object\n",
      " 12  FWI          245 non-null    object\n",
      " 13  Classes      244 non-null    object\n",
      "dtypes: object(14)\n",
      "memory usage: 27.0+ KB\n"
     ]
    }
   ],
   "source": [
    "df.info()"
   ]
  },
  {
   "cell_type": "code",
   "execution_count": 6,
   "id": "40cb0d14",
   "metadata": {},
   "outputs": [
    {
     "data": {
      "text/html": [
       "<div>\n",
       "<style scoped>\n",
       "    .dataframe tbody tr th:only-of-type {\n",
       "        vertical-align: middle;\n",
       "    }\n",
       "\n",
       "    .dataframe tbody tr th {\n",
       "        vertical-align: top;\n",
       "    }\n",
       "\n",
       "    .dataframe thead th {\n",
       "        text-align: right;\n",
       "    }\n",
       "</style>\n",
       "<table border=\"1\" class=\"dataframe\">\n",
       "  <thead>\n",
       "    <tr style=\"text-align: right;\">\n",
       "      <th></th>\n",
       "      <th>day</th>\n",
       "      <th>month</th>\n",
       "      <th>year</th>\n",
       "      <th>Temperature</th>\n",
       "      <th>RH</th>\n",
       "      <th>Ws</th>\n",
       "      <th>Rain</th>\n",
       "      <th>FFMC</th>\n",
       "      <th>DMC</th>\n",
       "      <th>DC</th>\n",
       "      <th>ISI</th>\n",
       "      <th>BUI</th>\n",
       "      <th>FWI</th>\n",
       "      <th>Classes</th>\n",
       "    </tr>\n",
       "  </thead>\n",
       "  <tbody>\n",
       "    <tr>\n",
       "      <th>count</th>\n",
       "      <td>246</td>\n",
       "      <td>245</td>\n",
       "      <td>245</td>\n",
       "      <td>245</td>\n",
       "      <td>245</td>\n",
       "      <td>245</td>\n",
       "      <td>245</td>\n",
       "      <td>245</td>\n",
       "      <td>245</td>\n",
       "      <td>245</td>\n",
       "      <td>245</td>\n",
       "      <td>245</td>\n",
       "      <td>245</td>\n",
       "      <td>244</td>\n",
       "    </tr>\n",
       "    <tr>\n",
       "      <th>unique</th>\n",
       "      <td>33</td>\n",
       "      <td>5</td>\n",
       "      <td>2</td>\n",
       "      <td>20</td>\n",
       "      <td>63</td>\n",
       "      <td>19</td>\n",
       "      <td>40</td>\n",
       "      <td>174</td>\n",
       "      <td>167</td>\n",
       "      <td>199</td>\n",
       "      <td>107</td>\n",
       "      <td>175</td>\n",
       "      <td>128</td>\n",
       "      <td>9</td>\n",
       "    </tr>\n",
       "    <tr>\n",
       "      <th>top</th>\n",
       "      <td>01</td>\n",
       "      <td>07</td>\n",
       "      <td>2012</td>\n",
       "      <td>35</td>\n",
       "      <td>64</td>\n",
       "      <td>14</td>\n",
       "      <td>0</td>\n",
       "      <td>88.9</td>\n",
       "      <td>7.9</td>\n",
       "      <td>8</td>\n",
       "      <td>1.1</td>\n",
       "      <td>3</td>\n",
       "      <td>0.4</td>\n",
       "      <td>fire</td>\n",
       "    </tr>\n",
       "    <tr>\n",
       "      <th>freq</th>\n",
       "      <td>8</td>\n",
       "      <td>62</td>\n",
       "      <td>244</td>\n",
       "      <td>29</td>\n",
       "      <td>10</td>\n",
       "      <td>43</td>\n",
       "      <td>133</td>\n",
       "      <td>8</td>\n",
       "      <td>5</td>\n",
       "      <td>5</td>\n",
       "      <td>8</td>\n",
       "      <td>5</td>\n",
       "      <td>12</td>\n",
       "      <td>131</td>\n",
       "    </tr>\n",
       "  </tbody>\n",
       "</table>\n",
       "</div>"
      ],
      "text/plain": [
       "        day month  year Temperature   RH   Ws Rain   FFMC  DMC   DC  ISI  BUI  \\\n",
       "count   246   245   245         245  245  245   245   245  245  245  245  245   \n",
       "unique   33     5     2          20   63   19    40   174  167  199  107  175   \n",
       "top      01    07  2012          35   64   14     0  88.9  7.9    8  1.1    3   \n",
       "freq      8    62   244          29   10   43   133     8    5    5    8    5   \n",
       "\n",
       "        FWI Classes    \n",
       "count   245       244  \n",
       "unique  128         9  \n",
       "top     0.4   fire     \n",
       "freq     12       131  "
      ]
     },
     "execution_count": 6,
     "metadata": {},
     "output_type": "execute_result"
    }
   ],
   "source": [
    "df.describe()"
   ]
  },
  {
   "cell_type": "code",
   "execution_count": 7,
   "id": "9dc34494",
   "metadata": {},
   "outputs": [
    {
     "data": {
      "text/plain": [
       "Index(['day', 'month', 'year', 'Temperature', ' RH', ' Ws', 'Rain ', 'FFMC',\n",
       "       'DMC', 'DC', 'ISI', 'BUI', 'FWI', 'Classes  '],\n",
       "      dtype='object')"
      ]
     },
     "execution_count": 7,
     "metadata": {},
     "output_type": "execute_result"
    }
   ],
   "source": [
    "df.columns"
   ]
  },
  {
   "cell_type": "code",
   "execution_count": 8,
   "id": "e342752d",
   "metadata": {},
   "outputs": [
    {
     "data": {
      "text/html": [
       "<div>\n",
       "<style scoped>\n",
       "    .dataframe tbody tr th:only-of-type {\n",
       "        vertical-align: middle;\n",
       "    }\n",
       "\n",
       "    .dataframe tbody tr th {\n",
       "        vertical-align: top;\n",
       "    }\n",
       "\n",
       "    .dataframe thead th {\n",
       "        text-align: right;\n",
       "    }\n",
       "</style>\n",
       "<table border=\"1\" class=\"dataframe\">\n",
       "  <thead>\n",
       "    <tr style=\"text-align: right;\">\n",
       "      <th></th>\n",
       "      <th>day</th>\n",
       "      <th>month</th>\n",
       "      <th>year</th>\n",
       "      <th>Temperature</th>\n",
       "      <th>RH</th>\n",
       "      <th>Ws</th>\n",
       "      <th>Rain</th>\n",
       "      <th>FFMC</th>\n",
       "      <th>DMC</th>\n",
       "      <th>DC</th>\n",
       "      <th>ISI</th>\n",
       "      <th>BUI</th>\n",
       "      <th>FWI</th>\n",
       "      <th>Classes</th>\n",
       "    </tr>\n",
       "  </thead>\n",
       "  <tbody>\n",
       "    <tr>\n",
       "      <th>121</th>\n",
       "      <td>30</td>\n",
       "      <td>09</td>\n",
       "      <td>2012</td>\n",
       "      <td>25</td>\n",
       "      <td>78</td>\n",
       "      <td>14</td>\n",
       "      <td>1.4</td>\n",
       "      <td>45</td>\n",
       "      <td>1.9</td>\n",
       "      <td>7.5</td>\n",
       "      <td>0.2</td>\n",
       "      <td>2.4</td>\n",
       "      <td>0.1</td>\n",
       "      <td>not fire</td>\n",
       "    </tr>\n",
       "    <tr>\n",
       "      <th>122</th>\n",
       "      <td>Sidi-Bel Abbes Region Dataset</td>\n",
       "      <td>NaN</td>\n",
       "      <td>NaN</td>\n",
       "      <td>NaN</td>\n",
       "      <td>NaN</td>\n",
       "      <td>NaN</td>\n",
       "      <td>NaN</td>\n",
       "      <td>NaN</td>\n",
       "      <td>NaN</td>\n",
       "      <td>NaN</td>\n",
       "      <td>NaN</td>\n",
       "      <td>NaN</td>\n",
       "      <td>NaN</td>\n",
       "      <td>NaN</td>\n",
       "    </tr>\n",
       "    <tr>\n",
       "      <th>123</th>\n",
       "      <td>day</td>\n",
       "      <td>month</td>\n",
       "      <td>year</td>\n",
       "      <td>Temperature</td>\n",
       "      <td>RH</td>\n",
       "      <td>Ws</td>\n",
       "      <td>Rain</td>\n",
       "      <td>FFMC</td>\n",
       "      <td>DMC</td>\n",
       "      <td>DC</td>\n",
       "      <td>ISI</td>\n",
       "      <td>BUI</td>\n",
       "      <td>FWI</td>\n",
       "      <td>Classes</td>\n",
       "    </tr>\n",
       "    <tr>\n",
       "      <th>124</th>\n",
       "      <td>01</td>\n",
       "      <td>06</td>\n",
       "      <td>2012</td>\n",
       "      <td>32</td>\n",
       "      <td>71</td>\n",
       "      <td>12</td>\n",
       "      <td>0.7</td>\n",
       "      <td>57.1</td>\n",
       "      <td>2.5</td>\n",
       "      <td>8.2</td>\n",
       "      <td>0.6</td>\n",
       "      <td>2.8</td>\n",
       "      <td>0.2</td>\n",
       "      <td>not fire</td>\n",
       "    </tr>\n",
       "    <tr>\n",
       "      <th>125</th>\n",
       "      <td>02</td>\n",
       "      <td>06</td>\n",
       "      <td>2012</td>\n",
       "      <td>30</td>\n",
       "      <td>73</td>\n",
       "      <td>13</td>\n",
       "      <td>4</td>\n",
       "      <td>55.7</td>\n",
       "      <td>2.7</td>\n",
       "      <td>7.8</td>\n",
       "      <td>0.6</td>\n",
       "      <td>2.9</td>\n",
       "      <td>0.2</td>\n",
       "      <td>not fire</td>\n",
       "    </tr>\n",
       "    <tr>\n",
       "      <th>126</th>\n",
       "      <td>03</td>\n",
       "      <td>06</td>\n",
       "      <td>2012</td>\n",
       "      <td>29</td>\n",
       "      <td>80</td>\n",
       "      <td>14</td>\n",
       "      <td>2</td>\n",
       "      <td>48.7</td>\n",
       "      <td>2.2</td>\n",
       "      <td>7.6</td>\n",
       "      <td>0.3</td>\n",
       "      <td>2.6</td>\n",
       "      <td>0.1</td>\n",
       "      <td>not fire</td>\n",
       "    </tr>\n",
       "    <tr>\n",
       "      <th>127</th>\n",
       "      <td>04</td>\n",
       "      <td>06</td>\n",
       "      <td>2012</td>\n",
       "      <td>30</td>\n",
       "      <td>64</td>\n",
       "      <td>14</td>\n",
       "      <td>0</td>\n",
       "      <td>79.4</td>\n",
       "      <td>5.2</td>\n",
       "      <td>15.4</td>\n",
       "      <td>2.2</td>\n",
       "      <td>5.6</td>\n",
       "      <td>1</td>\n",
       "      <td>not fire</td>\n",
       "    </tr>\n",
       "    <tr>\n",
       "      <th>128</th>\n",
       "      <td>05</td>\n",
       "      <td>06</td>\n",
       "      <td>2012</td>\n",
       "      <td>32</td>\n",
       "      <td>60</td>\n",
       "      <td>14</td>\n",
       "      <td>0.2</td>\n",
       "      <td>77.1</td>\n",
       "      <td>6</td>\n",
       "      <td>17.6</td>\n",
       "      <td>1.8</td>\n",
       "      <td>6.5</td>\n",
       "      <td>0.9</td>\n",
       "      <td>not fire</td>\n",
       "    </tr>\n",
       "    <tr>\n",
       "      <th>129</th>\n",
       "      <td>06</td>\n",
       "      <td>06</td>\n",
       "      <td>2012</td>\n",
       "      <td>35</td>\n",
       "      <td>54</td>\n",
       "      <td>11</td>\n",
       "      <td>0.1</td>\n",
       "      <td>83.7</td>\n",
       "      <td>8.4</td>\n",
       "      <td>26.3</td>\n",
       "      <td>3.1</td>\n",
       "      <td>9.3</td>\n",
       "      <td>3.1</td>\n",
       "      <td>fire</td>\n",
       "    </tr>\n",
       "  </tbody>\n",
       "</table>\n",
       "</div>"
      ],
      "text/plain": [
       "                               day  month  year  Temperature   RH   Ws  Rain   \\\n",
       "121                             30     09  2012           25   78   14    1.4   \n",
       "122  Sidi-Bel Abbes Region Dataset    NaN   NaN          NaN  NaN  NaN    NaN   \n",
       "123                            day  month  year  Temperature   RH   Ws  Rain    \n",
       "124                             01     06  2012           32   71   12    0.7   \n",
       "125                             02     06  2012           30   73   13      4   \n",
       "126                             03     06  2012           29   80   14      2   \n",
       "127                             04     06  2012           30   64   14      0   \n",
       "128                             05     06  2012           32   60   14    0.2   \n",
       "129                             06     06  2012           35   54   11    0.1   \n",
       "\n",
       "     FFMC  DMC    DC  ISI  BUI  FWI    Classes    \n",
       "121    45  1.9   7.5  0.2  2.4  0.1  not fire     \n",
       "122   NaN  NaN   NaN  NaN  NaN  NaN          NaN  \n",
       "123  FFMC  DMC    DC  ISI  BUI  FWI    Classes    \n",
       "124  57.1  2.5   8.2  0.6  2.8  0.2  not fire     \n",
       "125  55.7  2.7   7.8  0.6  2.9  0.2  not fire     \n",
       "126  48.7  2.2   7.6  0.3  2.6  0.1  not fire     \n",
       "127  79.4  5.2  15.4  2.2  5.6    1  not fire     \n",
       "128  77.1    6  17.6  1.8  6.5  0.9  not fire     \n",
       "129  83.7  8.4  26.3  3.1  9.3  3.1      fire     "
      ]
     },
     "execution_count": 8,
     "metadata": {},
     "output_type": "execute_result"
    }
   ],
   "source": [
    "df[121:130]"
   ]
  },
  {
   "cell_type": "markdown",
   "id": "f748f78d",
   "metadata": {},
   "source": [
    "# Drop Row"
   ]
  },
  {
   "cell_type": "code",
   "execution_count": 9,
   "id": "c3d22359",
   "metadata": {},
   "outputs": [],
   "source": [
    "df.drop([122,123],inplace=True)\n",
    "df.reset_index(inplace=True)\n",
    "df.drop('index',axis=1,inplace=True)"
   ]
  },
  {
   "cell_type": "code",
   "execution_count": 10,
   "id": "ad942bc2",
   "metadata": {},
   "outputs": [
    {
     "data": {
      "text/html": [
       "<div>\n",
       "<style scoped>\n",
       "    .dataframe tbody tr th:only-of-type {\n",
       "        vertical-align: middle;\n",
       "    }\n",
       "\n",
       "    .dataframe tbody tr th {\n",
       "        vertical-align: top;\n",
       "    }\n",
       "\n",
       "    .dataframe thead th {\n",
       "        text-align: right;\n",
       "    }\n",
       "</style>\n",
       "<table border=\"1\" class=\"dataframe\">\n",
       "  <thead>\n",
       "    <tr style=\"text-align: right;\">\n",
       "      <th></th>\n",
       "      <th>day</th>\n",
       "      <th>month</th>\n",
       "      <th>year</th>\n",
       "      <th>Temperature</th>\n",
       "      <th>RH</th>\n",
       "      <th>Ws</th>\n",
       "      <th>Rain</th>\n",
       "      <th>FFMC</th>\n",
       "      <th>DMC</th>\n",
       "      <th>DC</th>\n",
       "      <th>ISI</th>\n",
       "      <th>BUI</th>\n",
       "      <th>FWI</th>\n",
       "      <th>Classes</th>\n",
       "    </tr>\n",
       "  </thead>\n",
       "  <tbody>\n",
       "    <tr>\n",
       "      <th>121</th>\n",
       "      <td>30</td>\n",
       "      <td>09</td>\n",
       "      <td>2012</td>\n",
       "      <td>25</td>\n",
       "      <td>78</td>\n",
       "      <td>14</td>\n",
       "      <td>1.4</td>\n",
       "      <td>45</td>\n",
       "      <td>1.9</td>\n",
       "      <td>7.5</td>\n",
       "      <td>0.2</td>\n",
       "      <td>2.4</td>\n",
       "      <td>0.1</td>\n",
       "      <td>not fire</td>\n",
       "    </tr>\n",
       "    <tr>\n",
       "      <th>122</th>\n",
       "      <td>01</td>\n",
       "      <td>06</td>\n",
       "      <td>2012</td>\n",
       "      <td>32</td>\n",
       "      <td>71</td>\n",
       "      <td>12</td>\n",
       "      <td>0.7</td>\n",
       "      <td>57.1</td>\n",
       "      <td>2.5</td>\n",
       "      <td>8.2</td>\n",
       "      <td>0.6</td>\n",
       "      <td>2.8</td>\n",
       "      <td>0.2</td>\n",
       "      <td>not fire</td>\n",
       "    </tr>\n",
       "    <tr>\n",
       "      <th>123</th>\n",
       "      <td>02</td>\n",
       "      <td>06</td>\n",
       "      <td>2012</td>\n",
       "      <td>30</td>\n",
       "      <td>73</td>\n",
       "      <td>13</td>\n",
       "      <td>4</td>\n",
       "      <td>55.7</td>\n",
       "      <td>2.7</td>\n",
       "      <td>7.8</td>\n",
       "      <td>0.6</td>\n",
       "      <td>2.9</td>\n",
       "      <td>0.2</td>\n",
       "      <td>not fire</td>\n",
       "    </tr>\n",
       "    <tr>\n",
       "      <th>124</th>\n",
       "      <td>03</td>\n",
       "      <td>06</td>\n",
       "      <td>2012</td>\n",
       "      <td>29</td>\n",
       "      <td>80</td>\n",
       "      <td>14</td>\n",
       "      <td>2</td>\n",
       "      <td>48.7</td>\n",
       "      <td>2.2</td>\n",
       "      <td>7.6</td>\n",
       "      <td>0.3</td>\n",
       "      <td>2.6</td>\n",
       "      <td>0.1</td>\n",
       "      <td>not fire</td>\n",
       "    </tr>\n",
       "    <tr>\n",
       "      <th>125</th>\n",
       "      <td>04</td>\n",
       "      <td>06</td>\n",
       "      <td>2012</td>\n",
       "      <td>30</td>\n",
       "      <td>64</td>\n",
       "      <td>14</td>\n",
       "      <td>0</td>\n",
       "      <td>79.4</td>\n",
       "      <td>5.2</td>\n",
       "      <td>15.4</td>\n",
       "      <td>2.2</td>\n",
       "      <td>5.6</td>\n",
       "      <td>1</td>\n",
       "      <td>not fire</td>\n",
       "    </tr>\n",
       "    <tr>\n",
       "      <th>126</th>\n",
       "      <td>05</td>\n",
       "      <td>06</td>\n",
       "      <td>2012</td>\n",
       "      <td>32</td>\n",
       "      <td>60</td>\n",
       "      <td>14</td>\n",
       "      <td>0.2</td>\n",
       "      <td>77.1</td>\n",
       "      <td>6</td>\n",
       "      <td>17.6</td>\n",
       "      <td>1.8</td>\n",
       "      <td>6.5</td>\n",
       "      <td>0.9</td>\n",
       "      <td>not fire</td>\n",
       "    </tr>\n",
       "    <tr>\n",
       "      <th>127</th>\n",
       "      <td>06</td>\n",
       "      <td>06</td>\n",
       "      <td>2012</td>\n",
       "      <td>35</td>\n",
       "      <td>54</td>\n",
       "      <td>11</td>\n",
       "      <td>0.1</td>\n",
       "      <td>83.7</td>\n",
       "      <td>8.4</td>\n",
       "      <td>26.3</td>\n",
       "      <td>3.1</td>\n",
       "      <td>9.3</td>\n",
       "      <td>3.1</td>\n",
       "      <td>fire</td>\n",
       "    </tr>\n",
       "    <tr>\n",
       "      <th>128</th>\n",
       "      <td>07</td>\n",
       "      <td>06</td>\n",
       "      <td>2012</td>\n",
       "      <td>35</td>\n",
       "      <td>44</td>\n",
       "      <td>17</td>\n",
       "      <td>0.2</td>\n",
       "      <td>85.6</td>\n",
       "      <td>9.9</td>\n",
       "      <td>28.9</td>\n",
       "      <td>5.4</td>\n",
       "      <td>10.7</td>\n",
       "      <td>6</td>\n",
       "      <td>fire</td>\n",
       "    </tr>\n",
       "    <tr>\n",
       "      <th>129</th>\n",
       "      <td>08</td>\n",
       "      <td>06</td>\n",
       "      <td>2012</td>\n",
       "      <td>28</td>\n",
       "      <td>51</td>\n",
       "      <td>17</td>\n",
       "      <td>1.3</td>\n",
       "      <td>71.4</td>\n",
       "      <td>7.7</td>\n",
       "      <td>7.4</td>\n",
       "      <td>1.5</td>\n",
       "      <td>7.3</td>\n",
       "      <td>0.8</td>\n",
       "      <td>not fire</td>\n",
       "    </tr>\n",
       "  </tbody>\n",
       "</table>\n",
       "</div>"
      ],
      "text/plain": [
       "    day month  year Temperature  RH  Ws Rain   FFMC  DMC    DC  ISI   BUI  \\\n",
       "121  30    09  2012          25  78  14   1.4    45  1.9   7.5  0.2   2.4   \n",
       "122  01    06  2012          32  71  12   0.7  57.1  2.5   8.2  0.6   2.8   \n",
       "123  02    06  2012          30  73  13     4  55.7  2.7   7.8  0.6   2.9   \n",
       "124  03    06  2012          29  80  14     2  48.7  2.2   7.6  0.3   2.6   \n",
       "125  04    06  2012          30  64  14     0  79.4  5.2  15.4  2.2   5.6   \n",
       "126  05    06  2012          32  60  14   0.2  77.1    6  17.6  1.8   6.5   \n",
       "127  06    06  2012          35  54  11   0.1  83.7  8.4  26.3  3.1   9.3   \n",
       "128  07    06  2012          35  44  17   0.2  85.6  9.9  28.9  5.4  10.7   \n",
       "129  08    06  2012          28  51  17   1.3  71.4  7.7   7.4  1.5   7.3   \n",
       "\n",
       "     FWI    Classes    \n",
       "121  0.1  not fire     \n",
       "122  0.2  not fire     \n",
       "123  0.2  not fire     \n",
       "124  0.1  not fire     \n",
       "125    1  not fire     \n",
       "126  0.9  not fire     \n",
       "127  3.1      fire     \n",
       "128    6      fire     \n",
       "129  0.8  not fire     "
      ]
     },
     "execution_count": 10,
     "metadata": {},
     "output_type": "execute_result"
    }
   ],
   "source": [
    "df[121:130]"
   ]
  },
  {
   "cell_type": "code",
   "execution_count": 11,
   "id": "476835a8",
   "metadata": {},
   "outputs": [],
   "source": [
    "df.loc[:122,'region'] = 'bejaia'\n",
    "df.loc[122:,'region'] ='sidi-bel abbes'"
   ]
  },
  {
   "cell_type": "code",
   "execution_count": 12,
   "id": "6d95d9e6",
   "metadata": {},
   "outputs": [],
   "source": [
    "df.drop(columns=['region'],inplace=True)"
   ]
  },
  {
   "cell_type": "code",
   "execution_count": 13,
   "id": "2b40c21e",
   "metadata": {},
   "outputs": [
    {
     "name": "stdout",
     "output_type": "stream",
     "text": [
      "<class 'pandas.core.frame.DataFrame'>\n",
      "RangeIndex: 244 entries, 0 to 243\n",
      "Data columns (total 14 columns):\n",
      " #   Column       Non-Null Count  Dtype \n",
      "---  ------       --------------  ----- \n",
      " 0   day          244 non-null    object\n",
      " 1   month        244 non-null    object\n",
      " 2   year         244 non-null    object\n",
      " 3   Temperature  244 non-null    object\n",
      " 4    RH          244 non-null    object\n",
      " 5    Ws          244 non-null    object\n",
      " 6   Rain         244 non-null    object\n",
      " 7   FFMC         244 non-null    object\n",
      " 8   DMC          244 non-null    object\n",
      " 9   DC           244 non-null    object\n",
      " 10  ISI          244 non-null    object\n",
      " 11  BUI          244 non-null    object\n",
      " 12  FWI          244 non-null    object\n",
      " 13  Classes      243 non-null    object\n",
      "dtypes: object(14)\n",
      "memory usage: 26.8+ KB\n"
     ]
    }
   ],
   "source": [
    "df.info()"
   ]
  },
  {
   "cell_type": "code",
   "execution_count": 14,
   "id": "df29af7b",
   "metadata": {},
   "outputs": [
    {
     "data": {
      "text/html": [
       "<div>\n",
       "<style scoped>\n",
       "    .dataframe tbody tr th:only-of-type {\n",
       "        vertical-align: middle;\n",
       "    }\n",
       "\n",
       "    .dataframe tbody tr th {\n",
       "        vertical-align: top;\n",
       "    }\n",
       "\n",
       "    .dataframe thead th {\n",
       "        text-align: right;\n",
       "    }\n",
       "</style>\n",
       "<table border=\"1\" class=\"dataframe\">\n",
       "  <thead>\n",
       "    <tr style=\"text-align: right;\">\n",
       "      <th></th>\n",
       "      <th>day</th>\n",
       "      <th>month</th>\n",
       "      <th>year</th>\n",
       "      <th>Temperature</th>\n",
       "      <th>RH</th>\n",
       "      <th>Ws</th>\n",
       "      <th>Rain</th>\n",
       "      <th>FFMC</th>\n",
       "      <th>DMC</th>\n",
       "      <th>DC</th>\n",
       "      <th>ISI</th>\n",
       "      <th>BUI</th>\n",
       "      <th>FWI</th>\n",
       "      <th>Classes</th>\n",
       "    </tr>\n",
       "  </thead>\n",
       "  <tbody>\n",
       "  </tbody>\n",
       "</table>\n",
       "</div>"
      ],
      "text/plain": [
       "Empty DataFrame\n",
       "Columns: [day, month, year, Temperature,  RH,  Ws, Rain , FFMC, DMC, DC, ISI, BUI, FWI, Classes  ]\n",
       "Index: []"
      ]
     },
     "execution_count": 14,
     "metadata": {},
     "output_type": "execute_result"
    }
   ],
   "source": [
    "df[df.duplicated()]"
   ]
  },
  {
   "cell_type": "code",
   "execution_count": 15,
   "id": "0372ee07",
   "metadata": {},
   "outputs": [
    {
     "data": {
      "text/plain": [
       "day            0\n",
       "month          0\n",
       "year           0\n",
       "Temperature    0\n",
       " RH            0\n",
       " Ws            0\n",
       "Rain           0\n",
       "FFMC           0\n",
       "DMC            0\n",
       "DC             0\n",
       "ISI            0\n",
       "BUI            0\n",
       "FWI            0\n",
       "Classes        1\n",
       "dtype: int64"
      ]
     },
     "execution_count": 15,
     "metadata": {},
     "output_type": "execute_result"
    }
   ],
   "source": [
    "df.isna().sum()"
   ]
  },
  {
   "cell_type": "markdown",
   "id": "366a5cdc",
   "metadata": {},
   "source": [
    "# Stripping the name of the Columns"
   ]
  },
  {
   "cell_type": "code",
   "execution_count": 16,
   "id": "b5c93dd8",
   "metadata": {},
   "outputs": [
    {
     "data": {
      "text/plain": [
       "Index(['day', 'month', 'year', 'Temperature', 'RH', 'Ws', 'Rain', 'FFMC',\n",
       "       'DMC', 'DC', 'ISI', 'BUI', 'FWI', 'Classes'],\n",
       "      dtype='object')"
      ]
     },
     "execution_count": 16,
     "metadata": {},
     "output_type": "execute_result"
    }
   ],
   "source": [
    "df.columns=[i.strip() for i in df.columns]\n",
    "df.columns"
   ]
  },
  {
   "cell_type": "code",
   "execution_count": 17,
   "id": "d1048676",
   "metadata": {},
   "outputs": [
    {
     "data": {
      "text/html": [
       "<div>\n",
       "<style scoped>\n",
       "    .dataframe tbody tr th:only-of-type {\n",
       "        vertical-align: middle;\n",
       "    }\n",
       "\n",
       "    .dataframe tbody tr th {\n",
       "        vertical-align: top;\n",
       "    }\n",
       "\n",
       "    .dataframe thead th {\n",
       "        text-align: right;\n",
       "    }\n",
       "</style>\n",
       "<table border=\"1\" class=\"dataframe\">\n",
       "  <thead>\n",
       "    <tr style=\"text-align: right;\">\n",
       "      <th></th>\n",
       "      <th>day</th>\n",
       "      <th>month</th>\n",
       "      <th>year</th>\n",
       "      <th>Temperature</th>\n",
       "      <th>RH</th>\n",
       "      <th>Ws</th>\n",
       "      <th>Rain</th>\n",
       "      <th>FFMC</th>\n",
       "      <th>DMC</th>\n",
       "      <th>DC</th>\n",
       "      <th>ISI</th>\n",
       "      <th>BUI</th>\n",
       "      <th>FWI</th>\n",
       "    </tr>\n",
       "  </thead>\n",
       "  <tbody>\n",
       "    <tr>\n",
       "      <th>0</th>\n",
       "      <td>01</td>\n",
       "      <td>06</td>\n",
       "      <td>2012</td>\n",
       "      <td>29</td>\n",
       "      <td>57</td>\n",
       "      <td>18</td>\n",
       "      <td>0</td>\n",
       "      <td>65.7</td>\n",
       "      <td>3.4</td>\n",
       "      <td>7.6</td>\n",
       "      <td>1.3</td>\n",
       "      <td>3.4</td>\n",
       "      <td>0.5</td>\n",
       "    </tr>\n",
       "    <tr>\n",
       "      <th>1</th>\n",
       "      <td>02</td>\n",
       "      <td>06</td>\n",
       "      <td>2012</td>\n",
       "      <td>29</td>\n",
       "      <td>61</td>\n",
       "      <td>13</td>\n",
       "      <td>1.3</td>\n",
       "      <td>64.4</td>\n",
       "      <td>4.1</td>\n",
       "      <td>7.6</td>\n",
       "      <td>1</td>\n",
       "      <td>3.9</td>\n",
       "      <td>0.4</td>\n",
       "    </tr>\n",
       "    <tr>\n",
       "      <th>2</th>\n",
       "      <td>03</td>\n",
       "      <td>06</td>\n",
       "      <td>2012</td>\n",
       "      <td>26</td>\n",
       "      <td>82</td>\n",
       "      <td>22</td>\n",
       "      <td>13.1</td>\n",
       "      <td>47.1</td>\n",
       "      <td>2.5</td>\n",
       "      <td>7.1</td>\n",
       "      <td>0.3</td>\n",
       "      <td>2.7</td>\n",
       "      <td>0.1</td>\n",
       "    </tr>\n",
       "    <tr>\n",
       "      <th>3</th>\n",
       "      <td>04</td>\n",
       "      <td>06</td>\n",
       "      <td>2012</td>\n",
       "      <td>25</td>\n",
       "      <td>89</td>\n",
       "      <td>13</td>\n",
       "      <td>2.5</td>\n",
       "      <td>28.6</td>\n",
       "      <td>1.3</td>\n",
       "      <td>6.9</td>\n",
       "      <td>0</td>\n",
       "      <td>1.7</td>\n",
       "      <td>0</td>\n",
       "    </tr>\n",
       "    <tr>\n",
       "      <th>4</th>\n",
       "      <td>05</td>\n",
       "      <td>06</td>\n",
       "      <td>2012</td>\n",
       "      <td>27</td>\n",
       "      <td>77</td>\n",
       "      <td>16</td>\n",
       "      <td>0</td>\n",
       "      <td>64.8</td>\n",
       "      <td>3</td>\n",
       "      <td>14.2</td>\n",
       "      <td>1.2</td>\n",
       "      <td>3.9</td>\n",
       "      <td>0.5</td>\n",
       "    </tr>\n",
       "  </tbody>\n",
       "</table>\n",
       "</div>"
      ],
      "text/plain": [
       "  day month  year Temperature  RH  Ws  Rain  FFMC  DMC    DC  ISI  BUI  FWI\n",
       "0  01    06  2012          29  57  18     0  65.7  3.4   7.6  1.3  3.4  0.5\n",
       "1  02    06  2012          29  61  13   1.3  64.4  4.1   7.6    1  3.9  0.4\n",
       "2  03    06  2012          26  82  22  13.1  47.1  2.5   7.1  0.3  2.7  0.1\n",
       "3  04    06  2012          25  89  13   2.5  28.6  1.3   6.9    0  1.7    0\n",
       "4  05    06  2012          27  77  16     0  64.8    3  14.2  1.2  3.9  0.5"
      ]
     },
     "execution_count": 17,
     "metadata": {},
     "output_type": "execute_result"
    }
   ],
   "source": [
    "df.drop('Classes',axis=1,inplace=True)\n",
    "df.head()"
   ]
  },
  {
   "cell_type": "markdown",
   "id": "f51f1057",
   "metadata": {},
   "source": [
    "# Replacing the day,month,year feature with datetime feature"
   ]
  },
  {
   "cell_type": "code",
   "execution_count": 18,
   "id": "1e1e409d",
   "metadata": {},
   "outputs": [],
   "source": [
    "df['date']=pd.to_datetime(df[['day','month','year']])\n",
    "df.drop(['day','month','year'],axis=1,inplace=True)"
   ]
  },
  {
   "cell_type": "code",
   "execution_count": 19,
   "id": "5e786ad7",
   "metadata": {},
   "outputs": [
    {
     "data": {
      "text/html": [
       "<div>\n",
       "<style scoped>\n",
       "    .dataframe tbody tr th:only-of-type {\n",
       "        vertical-align: middle;\n",
       "    }\n",
       "\n",
       "    .dataframe tbody tr th {\n",
       "        vertical-align: top;\n",
       "    }\n",
       "\n",
       "    .dataframe thead th {\n",
       "        text-align: right;\n",
       "    }\n",
       "</style>\n",
       "<table border=\"1\" class=\"dataframe\">\n",
       "  <thead>\n",
       "    <tr style=\"text-align: right;\">\n",
       "      <th></th>\n",
       "      <th>Temperature</th>\n",
       "      <th>RH</th>\n",
       "      <th>Ws</th>\n",
       "      <th>Rain</th>\n",
       "      <th>FFMC</th>\n",
       "      <th>DMC</th>\n",
       "      <th>DC</th>\n",
       "      <th>ISI</th>\n",
       "      <th>BUI</th>\n",
       "      <th>FWI</th>\n",
       "      <th>date</th>\n",
       "    </tr>\n",
       "  </thead>\n",
       "  <tbody>\n",
       "    <tr>\n",
       "      <th>0</th>\n",
       "      <td>29</td>\n",
       "      <td>57</td>\n",
       "      <td>18</td>\n",
       "      <td>0</td>\n",
       "      <td>65.7</td>\n",
       "      <td>3.4</td>\n",
       "      <td>7.6</td>\n",
       "      <td>1.3</td>\n",
       "      <td>3.4</td>\n",
       "      <td>0.5</td>\n",
       "      <td>2012-06-01</td>\n",
       "    </tr>\n",
       "    <tr>\n",
       "      <th>1</th>\n",
       "      <td>29</td>\n",
       "      <td>61</td>\n",
       "      <td>13</td>\n",
       "      <td>1.3</td>\n",
       "      <td>64.4</td>\n",
       "      <td>4.1</td>\n",
       "      <td>7.6</td>\n",
       "      <td>1</td>\n",
       "      <td>3.9</td>\n",
       "      <td>0.4</td>\n",
       "      <td>2012-06-02</td>\n",
       "    </tr>\n",
       "    <tr>\n",
       "      <th>2</th>\n",
       "      <td>26</td>\n",
       "      <td>82</td>\n",
       "      <td>22</td>\n",
       "      <td>13.1</td>\n",
       "      <td>47.1</td>\n",
       "      <td>2.5</td>\n",
       "      <td>7.1</td>\n",
       "      <td>0.3</td>\n",
       "      <td>2.7</td>\n",
       "      <td>0.1</td>\n",
       "      <td>2012-06-03</td>\n",
       "    </tr>\n",
       "    <tr>\n",
       "      <th>3</th>\n",
       "      <td>25</td>\n",
       "      <td>89</td>\n",
       "      <td>13</td>\n",
       "      <td>2.5</td>\n",
       "      <td>28.6</td>\n",
       "      <td>1.3</td>\n",
       "      <td>6.9</td>\n",
       "      <td>0</td>\n",
       "      <td>1.7</td>\n",
       "      <td>0</td>\n",
       "      <td>2012-06-04</td>\n",
       "    </tr>\n",
       "    <tr>\n",
       "      <th>4</th>\n",
       "      <td>27</td>\n",
       "      <td>77</td>\n",
       "      <td>16</td>\n",
       "      <td>0</td>\n",
       "      <td>64.8</td>\n",
       "      <td>3</td>\n",
       "      <td>14.2</td>\n",
       "      <td>1.2</td>\n",
       "      <td>3.9</td>\n",
       "      <td>0.5</td>\n",
       "      <td>2012-06-05</td>\n",
       "    </tr>\n",
       "  </tbody>\n",
       "</table>\n",
       "</div>"
      ],
      "text/plain": [
       "  Temperature  RH  Ws  Rain  FFMC  DMC    DC  ISI  BUI  FWI       date\n",
       "0          29  57  18     0  65.7  3.4   7.6  1.3  3.4  0.5 2012-06-01\n",
       "1          29  61  13   1.3  64.4  4.1   7.6    1  3.9  0.4 2012-06-02\n",
       "2          26  82  22  13.1  47.1  2.5   7.1  0.3  2.7  0.1 2012-06-03\n",
       "3          25  89  13   2.5  28.6  1.3   6.9    0  1.7    0 2012-06-04\n",
       "4          27  77  16     0  64.8    3  14.2  1.2  3.9  0.5 2012-06-05"
      ]
     },
     "execution_count": 19,
     "metadata": {},
     "output_type": "execute_result"
    }
   ],
   "source": [
    "df.head()"
   ]
  },
  {
   "cell_type": "code",
   "execution_count": 20,
   "id": "7e6ffe3c",
   "metadata": {},
   "outputs": [
    {
     "data": {
      "text/plain": [
       "Temperature            object\n",
       "RH                     object\n",
       "Ws                     object\n",
       "Rain                   object\n",
       "FFMC                   object\n",
       "DMC                    object\n",
       "DC                     object\n",
       "ISI                    object\n",
       "BUI                    object\n",
       "FWI                    object\n",
       "date           datetime64[ns]\n",
       "dtype: object"
      ]
     },
     "execution_count": 20,
     "metadata": {},
     "output_type": "execute_result"
    }
   ],
   "source": [
    "df.dtypes"
   ]
  },
  {
   "cell_type": "markdown",
   "id": "7855f3bd",
   "metadata": {},
   "source": [
    "# Converting columns type into Numeric:"
   ]
  },
  {
   "cell_type": "code",
   "execution_count": 21,
   "id": "0a656d21",
   "metadata": {},
   "outputs": [],
   "source": [
    "df['Temperature'] = df['Temperature'].astype(float)\n",
    "df['RH']    = df['RH'].astype(float)\n",
    "df['Ws']    = df['Ws'].astype(float)\n",
    "df['Rain']  = df['Rain'].astype(float)\n",
    "df['FFMC']  = df['FFMC'].astype(float)\n",
    "df['DMC']   = df['DMC'].astype(float)\n",
    "#df['DC']    = df['DC'].astype(float)\n",
    "df['ISI']   = df['ISI'].astype(float)\n",
    "df['BUI']   = df['BUI'].astype(float)\n",
    "#df['FWI']   = df['FWI'].astype(float)"
   ]
  },
  {
   "cell_type": "code",
   "execution_count": 22,
   "id": "43c81958",
   "metadata": {},
   "outputs": [
    {
     "data": {
      "text/plain": [
       "Temperature           float64\n",
       "RH                    float64\n",
       "Ws                    float64\n",
       "Rain                  float64\n",
       "FFMC                  float64\n",
       "DMC                   float64\n",
       "DC                     object\n",
       "ISI                   float64\n",
       "BUI                   float64\n",
       "FWI                    object\n",
       "date           datetime64[ns]\n",
       "dtype: object"
      ]
     },
     "execution_count": 22,
     "metadata": {},
     "output_type": "execute_result"
    }
   ],
   "source": [
    "df.dtypes"
   ]
  },
  {
   "cell_type": "markdown",
   "id": "4236431b",
   "metadata": {},
   "source": [
    "# What is label encoding?"
   ]
  },
  {
   "cell_type": "markdown",
   "id": "b4dc654c",
   "metadata": {},
   "source": [
    "Label Encoding refers to converting the labels into a numeric form so as to convert them into the machine-readable form. Machine learning algorithms can then decide in a better way how those labels must be operated. It is an important pre-processing step for the structured dataset in supervised learning."
   ]
  },
  {
   "cell_type": "markdown",
   "id": "294dc66f",
   "metadata": {},
   "source": [
    "# As in Drought code(DC) and Fire Wheather Index(FWI) are having a problem of string Formating,before converting them into float we will handle this issue"
   ]
  },
  {
   "cell_type": "code",
   "execution_count": 23,
   "id": "f67a704f",
   "metadata": {},
   "outputs": [
    {
     "data": {
      "text/plain": [
       "Temperature           float64\n",
       "RH                    float64\n",
       "Ws                    float64\n",
       "Rain                  float64\n",
       "FFMC                  float64\n",
       "DMC                   float64\n",
       "DC                     object\n",
       "ISI                   float64\n",
       "BUI                   float64\n",
       "FWI                    object\n",
       "date           datetime64[ns]\n",
       "dtype: object"
      ]
     },
     "execution_count": 23,
     "metadata": {},
     "output_type": "execute_result"
    }
   ],
   "source": [
    "df.dtypes"
   ]
  },
  {
   "cell_type": "code",
   "execution_count": 24,
   "id": "2c88105e",
   "metadata": {},
   "outputs": [],
   "source": [
    "df['DC']= df['DC'].str.replace(\" \",\"\")"
   ]
  },
  {
   "cell_type": "markdown",
   "id": "10afd208",
   "metadata": {},
   "source": [
    "# In Drought code(DC) & Fire Wheather Index there was extra space which was giving issue"
   ]
  },
  {
   "cell_type": "code",
   "execution_count": 25,
   "id": "8961abf1",
   "metadata": {},
   "outputs": [],
   "source": [
    "df['DC'] = df['DC'].astype(float)"
   ]
  },
  {
   "cell_type": "code",
   "execution_count": 26,
   "id": "f4f9ae89",
   "metadata": {},
   "outputs": [],
   "source": [
    "df['FWI'] = df['FWI'].str.replace(\" \",\"\")"
   ]
  },
  {
   "cell_type": "code",
   "execution_count": 27,
   "id": "f0407692",
   "metadata": {},
   "outputs": [
    {
     "data": {
      "text/html": [
       "<div>\n",
       "<style scoped>\n",
       "    .dataframe tbody tr th:only-of-type {\n",
       "        vertical-align: middle;\n",
       "    }\n",
       "\n",
       "    .dataframe tbody tr th {\n",
       "        vertical-align: top;\n",
       "    }\n",
       "\n",
       "    .dataframe thead th {\n",
       "        text-align: right;\n",
       "    }\n",
       "</style>\n",
       "<table border=\"1\" class=\"dataframe\">\n",
       "  <thead>\n",
       "    <tr style=\"text-align: right;\">\n",
       "      <th></th>\n",
       "      <th>Temperature</th>\n",
       "      <th>RH</th>\n",
       "      <th>Ws</th>\n",
       "      <th>Rain</th>\n",
       "      <th>FFMC</th>\n",
       "      <th>DMC</th>\n",
       "      <th>DC</th>\n",
       "      <th>ISI</th>\n",
       "      <th>BUI</th>\n",
       "      <th>FWI</th>\n",
       "      <th>date</th>\n",
       "    </tr>\n",
       "  </thead>\n",
       "  <tbody>\n",
       "    <tr>\n",
       "      <th>165</th>\n",
       "      <td>37.0</td>\n",
       "      <td>37.0</td>\n",
       "      <td>18.0</td>\n",
       "      <td>0.2</td>\n",
       "      <td>88.9</td>\n",
       "      <td>12.9</td>\n",
       "      <td>14.69</td>\n",
       "      <td>12.5</td>\n",
       "      <td>10.4</td>\n",
       "      <td>fire</td>\n",
       "      <td>2012-07-14</td>\n",
       "    </tr>\n",
       "  </tbody>\n",
       "</table>\n",
       "</div>"
      ],
      "text/plain": [
       "     Temperature    RH    Ws  Rain  FFMC   DMC     DC   ISI   BUI   FWI  \\\n",
       "165         37.0  37.0  18.0   0.2  88.9  12.9  14.69  12.5  10.4  fire   \n",
       "\n",
       "          date  \n",
       "165 2012-07-14  "
      ]
     },
     "execution_count": 27,
     "metadata": {},
     "output_type": "execute_result"
    }
   ],
   "source": [
    "# FWI is filled by string fire by mistake\n",
    "df[df['FWI']=='fire']"
   ]
  },
  {
   "cell_type": "code",
   "execution_count": 28,
   "id": "a1233267",
   "metadata": {},
   "outputs": [],
   "source": [
    "df = df.drop(labels=165,axis=0)"
   ]
  },
  {
   "cell_type": "code",
   "execution_count": 29,
   "id": "e9f50e2b",
   "metadata": {},
   "outputs": [],
   "source": [
    "df['FWI'] = df['FWI'].astype(float)"
   ]
  },
  {
   "cell_type": "code",
   "execution_count": 30,
   "id": "64c5efcf",
   "metadata": {},
   "outputs": [
    {
     "data": {
      "text/plain": [
       "Temperature           float64\n",
       "RH                    float64\n",
       "Ws                    float64\n",
       "Rain                  float64\n",
       "FFMC                  float64\n",
       "DMC                   float64\n",
       "DC                    float64\n",
       "ISI                   float64\n",
       "BUI                   float64\n",
       "FWI                   float64\n",
       "date           datetime64[ns]\n",
       "dtype: object"
      ]
     },
     "execution_count": 30,
     "metadata": {},
     "output_type": "execute_result"
    }
   ],
   "source": [
    "df.dtypes"
   ]
  },
  {
   "cell_type": "code",
   "execution_count": 31,
   "id": "705b10f6",
   "metadata": {},
   "outputs": [
    {
     "data": {
      "text/plain": [
       "Temperature    0\n",
       "RH             0\n",
       "Ws             0\n",
       "Rain           0\n",
       "FFMC           0\n",
       "DMC            0\n",
       "DC             0\n",
       "ISI            0\n",
       "BUI            0\n",
       "FWI            0\n",
       "date           0\n",
       "dtype: int64"
      ]
     },
     "execution_count": 31,
     "metadata": {},
     "output_type": "execute_result"
    }
   ],
   "source": [
    "df.isna().sum()"
   ]
  },
  {
   "cell_type": "markdown",
   "id": "85ea0483",
   "metadata": {},
   "source": [
    "# Univariete Analysis"
   ]
  },
  {
   "cell_type": "code",
   "execution_count": 32,
   "id": "00bc40a2",
   "metadata": {},
   "outputs": [],
   "source": [
    "num_col = [fea for fea in df.columns if df[fea].dtypes!='o']"
   ]
  },
  {
   "cell_type": "code",
   "execution_count": 33,
   "id": "f7d61d72",
   "metadata": {},
   "outputs": [
    {
     "data": {
      "text/plain": [
       "['Temperature',\n",
       " 'RH',\n",
       " 'Ws',\n",
       " 'Rain',\n",
       " 'FFMC',\n",
       " 'DMC',\n",
       " 'DC',\n",
       " 'ISI',\n",
       " 'BUI',\n",
       " 'FWI',\n",
       " 'date']"
      ]
     },
     "execution_count": 33,
     "metadata": {},
     "output_type": "execute_result"
    }
   ],
   "source": [
    "num_col"
   ]
  },
  {
   "cell_type": "code",
   "execution_count": 34,
   "id": "99c4a1c0",
   "metadata": {},
   "outputs": [],
   "source": [
    "from matplotlib import figure"
   ]
  },
  {
   "cell_type": "code",
   "execution_count": 35,
   "id": "ee83c07c",
   "metadata": {},
   "outputs": [
    {
     "data": {
      "image/png": "[encoded data removed]",
      "text/plain": [
       "<Figure size 1080x1080 with 11 Axes>"
      ]
     },
     "metadata": {
      "needs_background": "light"
     },
     "output_type": "display_data"
    }
   ],
   "source": [
    "plt.figure(figsize=(15,15))\n",
    "plt.suptitle('Univariate Analysis of numerical feature',fontsize =21,fontweight=10)\n",
    "\n",
    "for i in range(0,len(num_col)):\n",
    "    plt.subplot(5,3,i+1)\n",
    "    sns.kdeplot(x=df[num_col[i]],shade=True,color='r')\n",
    "    plt.xlabel(num_col)\n",
    "    plt.tight_layout()"
   ]
  },
  {
   "cell_type": "markdown",
   "id": "096dfb25",
   "metadata": {},
   "source": [
    "# Visualization of target feature"
   ]
  },
  {
   "cell_type": "code",
   "execution_count": 36,
   "id": "511a77d8",
   "metadata": {},
   "outputs": [
    {
     "data": {
      "image/png": "[encoded data removed]",
      "text/plain": [
       "<Figure size 1008x504 with 1 Axes>"
      ]
     },
     "metadata": {
      "needs_background": "light"
     },
     "output_type": "display_data"
    }
   ],
   "source": [
    "plt.subplots(figsize=(14,7))\n",
    "sns.histplot(x=df.Temperature, ec='black', color='blue', kde=True)\n",
    "plt.title(\"Temperature Distribution\",weight=\"bold\",fontsize=20,pad=20)\n",
    "plt.ylabel(\"count\",weight=\"bold\",fontsize=15)\n",
    "plt.xlabel(\"Temperatures\",weight=\"bold\",fontsize=12)\n",
    "plt.show()"
   ]
  },
  {
   "cell_type": "markdown",
   "id": "f6e53819",
   "metadata": {},
   "source": [
    "Temperature occurs most of time in range of 32.5 to 35.0"
   ]
  },
  {
   "cell_type": "markdown",
   "id": "b1b63876",
   "metadata": {},
   "source": [
    "# Temperature Vs Rain"
   ]
  },
  {
   "cell_type": "code",
   "execution_count": 37,
   "id": "f3d137f1",
   "metadata": {},
   "outputs": [
    {
     "data": {
      "text/plain": [
       "<AxesSubplot:xlabel='Temperature', ylabel='Rain'>"
      ]
     },
     "execution_count": 37,
     "metadata": {},
     "output_type": "execute_result"
    },
    {
     "data": {
      "image/png": "[encoded data removed]",
      "text/plain": [
       "<Figure size 1440x720 with 1 Axes>"
      ]
     },
     "metadata": {
      "needs_background": "light"
     },
     "output_type": "display_data"
    }
   ],
   "source": [
    "import matplotlib\n",
    "matplotlib.rcParams['figure.figsize']=(20,10)\n",
    "\n",
    "sns.barplot(x='Temperature',y='Rain',data=df)"
   ]
  },
  {
   "cell_type": "markdown",
   "id": "9c87298e",
   "metadata": {},
   "source": [
    "Rain occurs most of the time at 22 degree celcius"
   ]
  },
  {
   "cell_type": "markdown",
   "id": "7a50ce7a",
   "metadata": {},
   "source": [
    "# Correlation of the features"
   ]
  },
  {
   "cell_type": "code",
   "execution_count": 38,
   "id": "65aff86d",
   "metadata": {},
   "outputs": [
    {
     "data": {
      "text/html": [
       "<div>\n",
       "<style scoped>\n",
       "    .dataframe tbody tr th:only-of-type {\n",
       "        vertical-align: middle;\n",
       "    }\n",
       "\n",
       "    .dataframe tbody tr th {\n",
       "        vertical-align: top;\n",
       "    }\n",
       "\n",
       "    .dataframe thead th {\n",
       "        text-align: right;\n",
       "    }\n",
       "</style>\n",
       "<table border=\"1\" class=\"dataframe\">\n",
       "  <thead>\n",
       "    <tr style=\"text-align: right;\">\n",
       "      <th></th>\n",
       "      <th>Temperature</th>\n",
       "      <th>RH</th>\n",
       "      <th>Ws</th>\n",
       "      <th>Rain</th>\n",
       "      <th>FFMC</th>\n",
       "      <th>DMC</th>\n",
       "      <th>DC</th>\n",
       "      <th>ISI</th>\n",
       "      <th>BUI</th>\n",
       "      <th>FWI</th>\n",
       "    </tr>\n",
       "  </thead>\n",
       "  <tbody>\n",
       "    <tr>\n",
       "      <th>Temperature</th>\n",
       "      <td>1.000000</td>\n",
       "      <td>-0.651400</td>\n",
       "      <td>-0.284510</td>\n",
       "      <td>-0.326492</td>\n",
       "      <td>0.676568</td>\n",
       "      <td>0.485687</td>\n",
       "      <td>0.376284</td>\n",
       "      <td>0.603871</td>\n",
       "      <td>0.459789</td>\n",
       "      <td>0.566670</td>\n",
       "    </tr>\n",
       "    <tr>\n",
       "      <th>RH</th>\n",
       "      <td>-0.651400</td>\n",
       "      <td>1.000000</td>\n",
       "      <td>0.244048</td>\n",
       "      <td>0.222356</td>\n",
       "      <td>-0.644873</td>\n",
       "      <td>-0.408519</td>\n",
       "      <td>-0.226941</td>\n",
       "      <td>-0.686667</td>\n",
       "      <td>-0.353841</td>\n",
       "      <td>-0.580957</td>\n",
       "    </tr>\n",
       "    <tr>\n",
       "      <th>Ws</th>\n",
       "      <td>-0.284510</td>\n",
       "      <td>0.244048</td>\n",
       "      <td>1.000000</td>\n",
       "      <td>0.171506</td>\n",
       "      <td>-0.166548</td>\n",
       "      <td>-0.000721</td>\n",
       "      <td>0.079135</td>\n",
       "      <td>0.008532</td>\n",
       "      <td>0.031438</td>\n",
       "      <td>0.032368</td>\n",
       "    </tr>\n",
       "    <tr>\n",
       "      <th>Rain</th>\n",
       "      <td>-0.326492</td>\n",
       "      <td>0.222356</td>\n",
       "      <td>0.171506</td>\n",
       "      <td>1.000000</td>\n",
       "      <td>-0.543906</td>\n",
       "      <td>-0.288773</td>\n",
       "      <td>-0.298023</td>\n",
       "      <td>-0.347484</td>\n",
       "      <td>-0.299852</td>\n",
       "      <td>-0.324422</td>\n",
       "    </tr>\n",
       "    <tr>\n",
       "      <th>FFMC</th>\n",
       "      <td>0.676568</td>\n",
       "      <td>-0.644873</td>\n",
       "      <td>-0.166548</td>\n",
       "      <td>-0.543906</td>\n",
       "      <td>1.000000</td>\n",
       "      <td>0.603608</td>\n",
       "      <td>0.507397</td>\n",
       "      <td>0.740007</td>\n",
       "      <td>0.592011</td>\n",
       "      <td>0.691132</td>\n",
       "    </tr>\n",
       "    <tr>\n",
       "      <th>DMC</th>\n",
       "      <td>0.485687</td>\n",
       "      <td>-0.408519</td>\n",
       "      <td>-0.000721</td>\n",
       "      <td>-0.288773</td>\n",
       "      <td>0.603608</td>\n",
       "      <td>1.000000</td>\n",
       "      <td>0.875925</td>\n",
       "      <td>0.680454</td>\n",
       "      <td>0.982248</td>\n",
       "      <td>0.875864</td>\n",
       "    </tr>\n",
       "    <tr>\n",
       "      <th>DC</th>\n",
       "      <td>0.376284</td>\n",
       "      <td>-0.226941</td>\n",
       "      <td>0.079135</td>\n",
       "      <td>-0.298023</td>\n",
       "      <td>0.507397</td>\n",
       "      <td>0.875925</td>\n",
       "      <td>1.000000</td>\n",
       "      <td>0.508643</td>\n",
       "      <td>0.941988</td>\n",
       "      <td>0.739521</td>\n",
       "    </tr>\n",
       "    <tr>\n",
       "      <th>ISI</th>\n",
       "      <td>0.603871</td>\n",
       "      <td>-0.686667</td>\n",
       "      <td>0.008532</td>\n",
       "      <td>-0.347484</td>\n",
       "      <td>0.740007</td>\n",
       "      <td>0.680454</td>\n",
       "      <td>0.508643</td>\n",
       "      <td>1.000000</td>\n",
       "      <td>0.644093</td>\n",
       "      <td>0.922895</td>\n",
       "    </tr>\n",
       "    <tr>\n",
       "      <th>BUI</th>\n",
       "      <td>0.459789</td>\n",
       "      <td>-0.353841</td>\n",
       "      <td>0.031438</td>\n",
       "      <td>-0.299852</td>\n",
       "      <td>0.592011</td>\n",
       "      <td>0.982248</td>\n",
       "      <td>0.941988</td>\n",
       "      <td>0.644093</td>\n",
       "      <td>1.000000</td>\n",
       "      <td>0.857973</td>\n",
       "    </tr>\n",
       "    <tr>\n",
       "      <th>FWI</th>\n",
       "      <td>0.566670</td>\n",
       "      <td>-0.580957</td>\n",
       "      <td>0.032368</td>\n",
       "      <td>-0.324422</td>\n",
       "      <td>0.691132</td>\n",
       "      <td>0.875864</td>\n",
       "      <td>0.739521</td>\n",
       "      <td>0.922895</td>\n",
       "      <td>0.857973</td>\n",
       "      <td>1.000000</td>\n",
       "    </tr>\n",
       "  </tbody>\n",
       "</table>\n",
       "</div>"
      ],
      "text/plain": [
       "             Temperature        RH        Ws      Rain      FFMC       DMC  \\\n",
       "Temperature     1.000000 -0.651400 -0.284510 -0.326492  0.676568  0.485687   \n",
       "RH             -0.651400  1.000000  0.244048  0.222356 -0.644873 -0.408519   \n",
       "Ws             -0.284510  0.244048  1.000000  0.171506 -0.166548 -0.000721   \n",
       "Rain           -0.326492  0.222356  0.171506  1.000000 -0.543906 -0.288773   \n",
       "FFMC            0.676568 -0.644873 -0.166548 -0.543906  1.000000  0.603608   \n",
       "DMC             0.485687 -0.408519 -0.000721 -0.288773  0.603608  1.000000   \n",
       "DC              0.376284 -0.226941  0.079135 -0.298023  0.507397  0.875925   \n",
       "ISI             0.603871 -0.686667  0.008532 -0.347484  0.740007  0.680454   \n",
       "BUI             0.459789 -0.353841  0.031438 -0.299852  0.592011  0.982248   \n",
       "FWI             0.566670 -0.580957  0.032368 -0.324422  0.691132  0.875864   \n",
       "\n",
       "                   DC       ISI       BUI       FWI  \n",
       "Temperature  0.376284  0.603871  0.459789  0.566670  \n",
       "RH          -0.226941 -0.686667 -0.353841 -0.580957  \n",
       "Ws           0.079135  0.008532  0.031438  0.032368  \n",
       "Rain        -0.298023 -0.347484 -0.299852 -0.324422  \n",
       "FFMC         0.507397  0.740007  0.592011  0.691132  \n",
       "DMC          0.875925  0.680454  0.982248  0.875864  \n",
       "DC           1.000000  0.508643  0.941988  0.739521  \n",
       "ISI          0.508643  1.000000  0.644093  0.922895  \n",
       "BUI          0.941988  0.644093  1.000000  0.857973  \n",
       "FWI          0.739521  0.922895  0.857973  1.000000  "
      ]
     },
     "execution_count": 38,
     "metadata": {},
     "output_type": "execute_result"
    }
   ],
   "source": [
    "df.corr()"
   ]
  },
  {
   "cell_type": "markdown",
   "id": "3c92a37f",
   "metadata": {},
   "source": [
    "# Multivariate Analysis"
   ]
  },
  {
   "cell_type": "code",
   "execution_count": 39,
   "id": "d3fd98ee",
   "metadata": {},
   "outputs": [
    {
     "data": {
      "text/plain": [
       "<AxesSubplot:>"
      ]
     },
     "execution_count": 39,
     "metadata": {},
     "output_type": "execute_result"
    },
    {
     "data": {
      "image/png": "[encoded data removed]",
      "text/plain": [
       "<Figure size 720x576 with 2 Axes>"
      ]
     },
     "metadata": {
      "needs_background": "light"
     },
     "output_type": "display_data"
    }
   ],
   "source": [
    "import seaborn as sns\n",
    "plt.figure(figsize=(10,8))\n",
    "sns.heatmap(df.corr())"
   ]
  },
  {
   "cell_type": "markdown",
   "id": "03c448d5",
   "metadata": {},
   "source": [
    "# Temperature Vs date feature"
   ]
  },
  {
   "cell_type": "code",
   "execution_count": 40,
   "id": "0c30cbdf",
   "metadata": {},
   "outputs": [
    {
     "data": {
      "text/plain": [
       "<AxesSubplot:xlabel='Temperature', ylabel='date'>"
      ]
     },
     "execution_count": 40,
     "metadata": {},
     "output_type": "execute_result"
    },
    {
     "data": {
      "image/png": "[encoded data removed]",
      "text/plain": [
       "<Figure size 576x576 with 1 Axes>"
      ]
     },
     "metadata": {
      "needs_background": "light"
     },
     "output_type": "display_data"
    }
   ],
   "source": [
    "plt.figure(figsize=(8,8))\n",
    "sns.lineplot(x='Temperature',y='date',data=df,color='r')"
   ]
  },
  {
   "cell_type": "markdown",
   "id": "fd84ebf8",
   "metadata": {},
   "source": [
    "# Temperature Vs FFMC"
   ]
  },
  {
   "cell_type": "code",
   "execution_count": 41,
   "id": "11ba96d7",
   "metadata": {},
   "outputs": [
    {
     "data": {
      "text/plain": [
       "<seaborn.axisgrid.JointGrid at 0x2aff6b6c4f0>"
      ]
     },
     "execution_count": 41,
     "metadata": {},
     "output_type": "execute_result"
    },
    {
     "data": {
      "text/plain": [
       "<Figure size 720x720 with 0 Axes>"
      ]
     },
     "metadata": {},
     "output_type": "display_data"
    },
    {
     "data": {
      "image/png": "[encoded data removed]",
      "text/plain": [
       "<Figure size 432x432 with 3 Axes>"
      ]
     },
     "metadata": {
      "needs_background": "light"
     },
     "output_type": "display_data"
    }
   ],
   "source": [
    "plt.figure(figsize=(10,10))\n",
    "sns.jointplot(x='Temperature',y='FFMC',data=df,color='g')"
   ]
  },
  {
   "cell_type": "markdown",
   "id": "472fefd0",
   "metadata": {},
   "source": [
    "# Tempeature Vs ISI"
   ]
  },
  {
   "cell_type": "code",
   "execution_count": 42,
   "id": "a7a11b04",
   "metadata": {},
   "outputs": [
    {
     "data": {
      "text/plain": [
       "<AxesSubplot:xlabel='Temperature', ylabel='ISI'>"
      ]
     },
     "execution_count": 42,
     "metadata": {},
     "output_type": "execute_result"
    },
    {
     "data": {
      "image/png": "[encoded data removed]",
      "text/plain": [
       "<Figure size 720x720 with 1 Axes>"
      ]
     },
     "metadata": {
      "needs_background": "light"
     },
     "output_type": "display_data"
    }
   ],
   "source": [
    "plt.figure(figsize=(10,10))\n",
    "sns.regplot(x='Temperature',y='ISI',data=df)"
   ]
  },
  {
   "cell_type": "markdown",
   "id": "d0c7f3be",
   "metadata": {},
   "source": [
    "# Checking the outliers of the target Temperature feature"
   ]
  },
  {
   "cell_type": "code",
   "execution_count": 43,
   "id": "e780f33e",
   "metadata": {},
   "outputs": [
    {
     "data": {
      "text/plain": [
       "<AxesSubplot:xlabel='Temperature'>"
      ]
     },
     "execution_count": 43,
     "metadata": {},
     "output_type": "execute_result"
    },
    {
     "data": {
      "image/png": "[encoded data removed]",
      "text/plain": [
       "<Figure size 1440x720 with 1 Axes>"
      ]
     },
     "metadata": {
      "needs_background": "light"
     },
     "output_type": "display_data"
    }
   ],
   "source": [
    "sns.boxplot(df['Temperature'])"
   ]
  },
  {
   "cell_type": "markdown",
   "id": "8d27d1bf",
   "metadata": {},
   "source": [
    "# Boxplot of Rain Vs Temperature"
   ]
  },
  {
   "cell_type": "code",
   "execution_count": 44,
   "id": "bdad350b",
   "metadata": {},
   "outputs": [
    {
     "data": {
      "text/plain": [
       "<AxesSubplot:xlabel='Temperature', ylabel='Rain'>"
      ]
     },
     "execution_count": 44,
     "metadata": {},
     "output_type": "execute_result"
    },
    {
     "data": {
      "image/png": "[encoded data removed]",
      "text/plain": [
       "<Figure size 1440x720 with 1 Axes>"
      ]
     },
     "metadata": {
      "needs_background": "light"
     },
     "output_type": "display_data"
    }
   ],
   "source": [
    "sns.boxplot(x='Temperature',y='Rain',data=df)"
   ]
  },
  {
   "cell_type": "markdown",
   "id": "042097b5",
   "metadata": {},
   "source": [
    "# boxplot of FFMC Vs Temperature"
   ]
  },
  {
   "cell_type": "code",
   "execution_count": 45,
   "id": "db53f7fe",
   "metadata": {},
   "outputs": [
    {
     "data": {
      "text/plain": [
       "<AxesSubplot:xlabel='Temperature', ylabel='FFMC'>"
      ]
     },
     "execution_count": 45,
     "metadata": {},
     "output_type": "execute_result"
    },
    {
     "data": {
      "image/png": "[encoded data removed]",
      "text/plain": [
       "<Figure size 1440x720 with 1 Axes>"
      ]
     },
     "metadata": {
      "needs_background": "light"
     },
     "output_type": "display_data"
    }
   ],
   "source": [
    "sns.boxplot(x='Temperature',y='FFMC',data=df)"
   ]
  },
  {
   "cell_type": "markdown",
   "id": "e6236a01",
   "metadata": {},
   "source": [
    "# Boxplot of ISI vs Temperature"
   ]
  },
  {
   "cell_type": "code",
   "execution_count": 46,
   "id": "6e943f66",
   "metadata": {},
   "outputs": [
    {
     "data": {
      "text/plain": [
       "<AxesSubplot:xlabel='Temperature', ylabel='ISI'>"
      ]
     },
     "execution_count": 46,
     "metadata": {},
     "output_type": "execute_result"
    },
    {
     "data": {
      "image/png": "[encoded data removed]",
      "text/plain": [
       "<Figure size 1440x720 with 1 Axes>"
      ]
     },
     "metadata": {
      "needs_background": "light"
     },
     "output_type": "display_data"
    }
   ],
   "source": [
    "sns.boxplot(x='Temperature',y='ISI',data=df)"
   ]
  },
  {
   "cell_type": "markdown",
   "id": "d3137482",
   "metadata": {},
   "source": [
    "# Boxplot of BUI Vs Temperature"
   ]
  },
  {
   "cell_type": "code",
   "execution_count": 47,
   "id": "b29a23f0",
   "metadata": {},
   "outputs": [
    {
     "data": {
      "text/plain": [
       "<AxesSubplot:xlabel='Temperature', ylabel='BUI'>"
      ]
     },
     "execution_count": 47,
     "metadata": {},
     "output_type": "execute_result"
    },
    {
     "data": {
      "image/png": "[encoded data removed]",
      "text/plain": [
       "<Figure size 1440x720 with 1 Axes>"
      ]
     },
     "metadata": {
      "needs_background": "light"
     },
     "output_type": "display_data"
    }
   ],
   "source": [
    "sns.boxplot(x='Temperature',y='BUI',data=df)"
   ]
  },
  {
   "cell_type": "markdown",
   "id": "d2a15c5f",
   "metadata": {},
   "source": [
    "# Boxplot of FFMC Vs Temperature"
   ]
  },
  {
   "cell_type": "code",
   "execution_count": 48,
   "id": "5c2e4e57",
   "metadata": {},
   "outputs": [
    {
     "data": {
      "text/plain": [
       "<AxesSubplot:xlabel='Temperature', ylabel='DMC'>"
      ]
     },
     "execution_count": 48,
     "metadata": {},
     "output_type": "execute_result"
    },
    {
     "data": {
      "image/png": "[encoded data removed]",
      "text/plain": [
       "<Figure size 1440x720 with 1 Axes>"
      ]
     },
     "metadata": {
      "needs_background": "light"
     },
     "output_type": "display_data"
    }
   ],
   "source": [
    "sns.boxplot(x=\"Temperature\",y='DMC',data=df)"
   ]
  },
  {
   "cell_type": "markdown",
   "id": "4d136405",
   "metadata": {},
   "source": [
    "# Creating Dependent and Independent Feature"
   ]
  },
  {
   "cell_type": "code",
   "execution_count": 49,
   "id": "ceabf6fc",
   "metadata": {},
   "outputs": [
    {
     "data": {
      "text/plain": [
       "Index(['Temperature', 'RH', 'Ws', 'Rain', 'FFMC', 'DMC', 'DC', 'ISI', 'BUI',\n",
       "       'FWI', 'date'],\n",
       "      dtype='object')"
      ]
     },
     "execution_count": 49,
     "metadata": {},
     "output_type": "execute_result"
    }
   ],
   "source": [
    "df.columns"
   ]
  },
  {
   "cell_type": "code",
   "execution_count": 50,
   "id": "d81086cf",
   "metadata": {},
   "outputs": [],
   "source": [
    "##Independent feature\n",
    "x=pd.DataFrame(df,columns=['RH','Ws','Rain','FFMC','DMC','ISI','BUI','FWI'])\n",
    "\n",
    "##Dependent feature\n",
    "y=pd.DataFrame(df,columns=['Temperature'])"
   ]
  },
  {
   "cell_type": "markdown",
   "id": "bd336288",
   "metadata": {},
   "source": [
    "# Independent Feature"
   ]
  },
  {
   "cell_type": "code",
   "execution_count": 51,
   "id": "86394164",
   "metadata": {},
   "outputs": [
    {
     "data": {
      "text/html": [
       "<div>\n",
       "<style scoped>\n",
       "    .dataframe tbody tr th:only-of-type {\n",
       "        vertical-align: middle;\n",
       "    }\n",
       "\n",
       "    .dataframe tbody tr th {\n",
       "        vertical-align: top;\n",
       "    }\n",
       "\n",
       "    .dataframe thead th {\n",
       "        text-align: right;\n",
       "    }\n",
       "</style>\n",
       "<table border=\"1\" class=\"dataframe\">\n",
       "  <thead>\n",
       "    <tr style=\"text-align: right;\">\n",
       "      <th></th>\n",
       "      <th>RH</th>\n",
       "      <th>Ws</th>\n",
       "      <th>Rain</th>\n",
       "      <th>FFMC</th>\n",
       "      <th>DMC</th>\n",
       "      <th>ISI</th>\n",
       "      <th>BUI</th>\n",
       "      <th>FWI</th>\n",
       "    </tr>\n",
       "  </thead>\n",
       "  <tbody>\n",
       "    <tr>\n",
       "      <th>0</th>\n",
       "      <td>57.0</td>\n",
       "      <td>18.0</td>\n",
       "      <td>0.0</td>\n",
       "      <td>65.7</td>\n",
       "      <td>3.4</td>\n",
       "      <td>1.3</td>\n",
       "      <td>3.4</td>\n",
       "      <td>0.5</td>\n",
       "    </tr>\n",
       "    <tr>\n",
       "      <th>1</th>\n",
       "      <td>61.0</td>\n",
       "      <td>13.0</td>\n",
       "      <td>1.3</td>\n",
       "      <td>64.4</td>\n",
       "      <td>4.1</td>\n",
       "      <td>1.0</td>\n",
       "      <td>3.9</td>\n",
       "      <td>0.4</td>\n",
       "    </tr>\n",
       "    <tr>\n",
       "      <th>2</th>\n",
       "      <td>82.0</td>\n",
       "      <td>22.0</td>\n",
       "      <td>13.1</td>\n",
       "      <td>47.1</td>\n",
       "      <td>2.5</td>\n",
       "      <td>0.3</td>\n",
       "      <td>2.7</td>\n",
       "      <td>0.1</td>\n",
       "    </tr>\n",
       "    <tr>\n",
       "      <th>3</th>\n",
       "      <td>89.0</td>\n",
       "      <td>13.0</td>\n",
       "      <td>2.5</td>\n",
       "      <td>28.6</td>\n",
       "      <td>1.3</td>\n",
       "      <td>0.0</td>\n",
       "      <td>1.7</td>\n",
       "      <td>0.0</td>\n",
       "    </tr>\n",
       "    <tr>\n",
       "      <th>4</th>\n",
       "      <td>77.0</td>\n",
       "      <td>16.0</td>\n",
       "      <td>0.0</td>\n",
       "      <td>64.8</td>\n",
       "      <td>3.0</td>\n",
       "      <td>1.2</td>\n",
       "      <td>3.9</td>\n",
       "      <td>0.5</td>\n",
       "    </tr>\n",
       "    <tr>\n",
       "      <th>...</th>\n",
       "      <td>...</td>\n",
       "      <td>...</td>\n",
       "      <td>...</td>\n",
       "      <td>...</td>\n",
       "      <td>...</td>\n",
       "      <td>...</td>\n",
       "      <td>...</td>\n",
       "      <td>...</td>\n",
       "    </tr>\n",
       "    <tr>\n",
       "      <th>239</th>\n",
       "      <td>65.0</td>\n",
       "      <td>14.0</td>\n",
       "      <td>0.0</td>\n",
       "      <td>85.4</td>\n",
       "      <td>16.0</td>\n",
       "      <td>4.5</td>\n",
       "      <td>16.9</td>\n",
       "      <td>6.5</td>\n",
       "    </tr>\n",
       "    <tr>\n",
       "      <th>240</th>\n",
       "      <td>87.0</td>\n",
       "      <td>15.0</td>\n",
       "      <td>4.4</td>\n",
       "      <td>41.1</td>\n",
       "      <td>6.5</td>\n",
       "      <td>0.1</td>\n",
       "      <td>6.2</td>\n",
       "      <td>0.0</td>\n",
       "    </tr>\n",
       "    <tr>\n",
       "      <th>241</th>\n",
       "      <td>87.0</td>\n",
       "      <td>29.0</td>\n",
       "      <td>0.5</td>\n",
       "      <td>45.9</td>\n",
       "      <td>3.5</td>\n",
       "      <td>0.4</td>\n",
       "      <td>3.4</td>\n",
       "      <td>0.2</td>\n",
       "    </tr>\n",
       "    <tr>\n",
       "      <th>242</th>\n",
       "      <td>54.0</td>\n",
       "      <td>18.0</td>\n",
       "      <td>0.1</td>\n",
       "      <td>79.7</td>\n",
       "      <td>4.3</td>\n",
       "      <td>1.7</td>\n",
       "      <td>5.1</td>\n",
       "      <td>0.7</td>\n",
       "    </tr>\n",
       "    <tr>\n",
       "      <th>243</th>\n",
       "      <td>64.0</td>\n",
       "      <td>15.0</td>\n",
       "      <td>0.2</td>\n",
       "      <td>67.3</td>\n",
       "      <td>3.8</td>\n",
       "      <td>1.2</td>\n",
       "      <td>4.8</td>\n",
       "      <td>0.5</td>\n",
       "    </tr>\n",
       "  </tbody>\n",
       "</table>\n",
       "<p>243 rows × 8 columns</p>\n",
       "</div>"
      ],
      "text/plain": [
       "       RH    Ws  Rain  FFMC   DMC  ISI   BUI  FWI\n",
       "0    57.0  18.0   0.0  65.7   3.4  1.3   3.4  0.5\n",
       "1    61.0  13.0   1.3  64.4   4.1  1.0   3.9  0.4\n",
       "2    82.0  22.0  13.1  47.1   2.5  0.3   2.7  0.1\n",
       "3    89.0  13.0   2.5  28.6   1.3  0.0   1.7  0.0\n",
       "4    77.0  16.0   0.0  64.8   3.0  1.2   3.9  0.5\n",
       "..    ...   ...   ...   ...   ...  ...   ...  ...\n",
       "239  65.0  14.0   0.0  85.4  16.0  4.5  16.9  6.5\n",
       "240  87.0  15.0   4.4  41.1   6.5  0.1   6.2  0.0\n",
       "241  87.0  29.0   0.5  45.9   3.5  0.4   3.4  0.2\n",
       "242  54.0  18.0   0.1  79.7   4.3  1.7   5.1  0.7\n",
       "243  64.0  15.0   0.2  67.3   3.8  1.2   4.8  0.5\n",
       "\n",
       "[243 rows x 8 columns]"
      ]
     },
     "execution_count": 51,
     "metadata": {},
     "output_type": "execute_result"
    }
   ],
   "source": [
    "x"
   ]
  },
  {
   "cell_type": "markdown",
   "id": "1b28a9b8",
   "metadata": {},
   "source": [
    "# Dependent Feature"
   ]
  },
  {
   "cell_type": "code",
   "execution_count": 52,
   "id": "f8f8eb24",
   "metadata": {},
   "outputs": [
    {
     "data": {
      "text/html": [
       "<div>\n",
       "<style scoped>\n",
       "    .dataframe tbody tr th:only-of-type {\n",
       "        vertical-align: middle;\n",
       "    }\n",
       "\n",
       "    .dataframe tbody tr th {\n",
       "        vertical-align: top;\n",
       "    }\n",
       "\n",
       "    .dataframe thead th {\n",
       "        text-align: right;\n",
       "    }\n",
       "</style>\n",
       "<table border=\"1\" class=\"dataframe\">\n",
       "  <thead>\n",
       "    <tr style=\"text-align: right;\">\n",
       "      <th></th>\n",
       "      <th>Temperature</th>\n",
       "    </tr>\n",
       "  </thead>\n",
       "  <tbody>\n",
       "    <tr>\n",
       "      <th>0</th>\n",
       "      <td>29.0</td>\n",
       "    </tr>\n",
       "    <tr>\n",
       "      <th>1</th>\n",
       "      <td>29.0</td>\n",
       "    </tr>\n",
       "    <tr>\n",
       "      <th>2</th>\n",
       "      <td>26.0</td>\n",
       "    </tr>\n",
       "    <tr>\n",
       "      <th>3</th>\n",
       "      <td>25.0</td>\n",
       "    </tr>\n",
       "    <tr>\n",
       "      <th>4</th>\n",
       "      <td>27.0</td>\n",
       "    </tr>\n",
       "    <tr>\n",
       "      <th>...</th>\n",
       "      <td>...</td>\n",
       "    </tr>\n",
       "    <tr>\n",
       "      <th>239</th>\n",
       "      <td>30.0</td>\n",
       "    </tr>\n",
       "    <tr>\n",
       "      <th>240</th>\n",
       "      <td>28.0</td>\n",
       "    </tr>\n",
       "    <tr>\n",
       "      <th>241</th>\n",
       "      <td>27.0</td>\n",
       "    </tr>\n",
       "    <tr>\n",
       "      <th>242</th>\n",
       "      <td>24.0</td>\n",
       "    </tr>\n",
       "    <tr>\n",
       "      <th>243</th>\n",
       "      <td>24.0</td>\n",
       "    </tr>\n",
       "  </tbody>\n",
       "</table>\n",
       "<p>243 rows × 1 columns</p>\n",
       "</div>"
      ],
      "text/plain": [
       "     Temperature\n",
       "0           29.0\n",
       "1           29.0\n",
       "2           26.0\n",
       "3           25.0\n",
       "4           27.0\n",
       "..           ...\n",
       "239         30.0\n",
       "240         28.0\n",
       "241         27.0\n",
       "242         24.0\n",
       "243         24.0\n",
       "\n",
       "[243 rows x 1 columns]"
      ]
     },
     "execution_count": 52,
     "metadata": {},
     "output_type": "execute_result"
    }
   ],
   "source": [
    "y"
   ]
  },
  {
   "cell_type": "markdown",
   "id": "dba680bb",
   "metadata": {},
   "source": [
    "# Train Test Split"
   ]
  },
  {
   "cell_type": "code",
   "execution_count": 53,
   "id": "14a26dcf",
   "metadata": {},
   "outputs": [],
   "source": [
    "from sklearn.model_selection import train_test_split"
   ]
  },
  {
   "cell_type": "code",
   "execution_count": 54,
   "id": "33789604",
   "metadata": {},
   "outputs": [],
   "source": [
    "x_train,x_test,y_train,y_test = train_test_split(\n",
    "    x,y,test_size=0.33,random_state=10)"
   ]
  },
  {
   "cell_type": "code",
   "execution_count": 55,
   "id": "df7ff679",
   "metadata": {},
   "outputs": [
    {
     "data": {
      "text/plain": [
       "(162, 8)"
      ]
     },
     "execution_count": 55,
     "metadata": {},
     "output_type": "execute_result"
    }
   ],
   "source": [
    "x_train.shape"
   ]
  },
  {
   "cell_type": "code",
   "execution_count": 56,
   "id": "4f256d10",
   "metadata": {},
   "outputs": [
    {
     "data": {
      "text/plain": [
       "(81, 8)"
      ]
     },
     "execution_count": 56,
     "metadata": {},
     "output_type": "execute_result"
    }
   ],
   "source": [
    "x_test.shape"
   ]
  },
  {
   "cell_type": "code",
   "execution_count": 57,
   "id": "728a81a1",
   "metadata": {},
   "outputs": [
    {
     "data": {
      "text/plain": [
       "(162, 1)"
      ]
     },
     "execution_count": 57,
     "metadata": {},
     "output_type": "execute_result"
    }
   ],
   "source": [
    "y_train.shape"
   ]
  },
  {
   "cell_type": "code",
   "execution_count": 58,
   "id": "3cbf0c73",
   "metadata": {},
   "outputs": [
    {
     "data": {
      "text/plain": [
       "(81, 1)"
      ]
     },
     "execution_count": 58,
     "metadata": {},
     "output_type": "execute_result"
    }
   ],
   "source": [
    "y_test.shape"
   ]
  },
  {
   "cell_type": "markdown",
   "id": "66f8cf48",
   "metadata": {},
   "source": [
    "# Independent Training dataset"
   ]
  },
  {
   "cell_type": "code",
   "execution_count": 59,
   "id": "876b527b",
   "metadata": {},
   "outputs": [
    {
     "data": {
      "text/html": [
       "<div>\n",
       "<style scoped>\n",
       "    .dataframe tbody tr th:only-of-type {\n",
       "        vertical-align: middle;\n",
       "    }\n",
       "\n",
       "    .dataframe tbody tr th {\n",
       "        vertical-align: top;\n",
       "    }\n",
       "\n",
       "    .dataframe thead th {\n",
       "        text-align: right;\n",
       "    }\n",
       "</style>\n",
       "<table border=\"1\" class=\"dataframe\">\n",
       "  <thead>\n",
       "    <tr style=\"text-align: right;\">\n",
       "      <th></th>\n",
       "      <th>RH</th>\n",
       "      <th>Ws</th>\n",
       "      <th>Rain</th>\n",
       "      <th>FFMC</th>\n",
       "      <th>DMC</th>\n",
       "      <th>ISI</th>\n",
       "      <th>BUI</th>\n",
       "      <th>FWI</th>\n",
       "    </tr>\n",
       "  </thead>\n",
       "  <tbody>\n",
       "    <tr>\n",
       "      <th>25</th>\n",
       "      <td>64.0</td>\n",
       "      <td>18.0</td>\n",
       "      <td>0.0</td>\n",
       "      <td>86.8</td>\n",
       "      <td>17.8</td>\n",
       "      <td>6.7</td>\n",
       "      <td>21.6</td>\n",
       "      <td>10.6</td>\n",
       "    </tr>\n",
       "    <tr>\n",
       "      <th>121</th>\n",
       "      <td>78.0</td>\n",
       "      <td>14.0</td>\n",
       "      <td>1.4</td>\n",
       "      <td>45.0</td>\n",
       "      <td>1.9</td>\n",
       "      <td>0.2</td>\n",
       "      <td>2.4</td>\n",
       "      <td>0.1</td>\n",
       "    </tr>\n",
       "    <tr>\n",
       "      <th>174</th>\n",
       "      <td>71.0</td>\n",
       "      <td>17.0</td>\n",
       "      <td>0.0</td>\n",
       "      <td>87.3</td>\n",
       "      <td>46.6</td>\n",
       "      <td>6.9</td>\n",
       "      <td>46.5</td>\n",
       "      <td>16.3</td>\n",
       "    </tr>\n",
       "    <tr>\n",
       "      <th>72</th>\n",
       "      <td>51.0</td>\n",
       "      <td>13.0</td>\n",
       "      <td>0.3</td>\n",
       "      <td>81.3</td>\n",
       "      <td>15.6</td>\n",
       "      <td>2.5</td>\n",
       "      <td>20.7</td>\n",
       "      <td>4.2</td>\n",
       "    </tr>\n",
       "    <tr>\n",
       "      <th>186</th>\n",
       "      <td>35.0</td>\n",
       "      <td>15.0</td>\n",
       "      <td>0.0</td>\n",
       "      <td>93.8</td>\n",
       "      <td>23.0</td>\n",
       "      <td>15.7</td>\n",
       "      <td>22.9</td>\n",
       "      <td>20.9</td>\n",
       "    </tr>\n",
       "    <tr>\n",
       "      <th>...</th>\n",
       "      <td>...</td>\n",
       "      <td>...</td>\n",
       "      <td>...</td>\n",
       "      <td>...</td>\n",
       "      <td>...</td>\n",
       "      <td>...</td>\n",
       "      <td>...</td>\n",
       "      <td>...</td>\n",
       "    </tr>\n",
       "    <tr>\n",
       "      <th>64</th>\n",
       "      <td>69.0</td>\n",
       "      <td>13.0</td>\n",
       "      <td>0.0</td>\n",
       "      <td>85.0</td>\n",
       "      <td>8.2</td>\n",
       "      <td>4.0</td>\n",
       "      <td>8.2</td>\n",
       "      <td>3.9</td>\n",
       "    </tr>\n",
       "    <tr>\n",
       "      <th>15</th>\n",
       "      <td>89.0</td>\n",
       "      <td>13.0</td>\n",
       "      <td>0.7</td>\n",
       "      <td>36.1</td>\n",
       "      <td>1.7</td>\n",
       "      <td>0.0</td>\n",
       "      <td>2.2</td>\n",
       "      <td>0.0</td>\n",
       "    </tr>\n",
       "    <tr>\n",
       "      <th>229</th>\n",
       "      <td>26.0</td>\n",
       "      <td>13.0</td>\n",
       "      <td>0.0</td>\n",
       "      <td>93.9</td>\n",
       "      <td>21.2</td>\n",
       "      <td>14.2</td>\n",
       "      <td>22.4</td>\n",
       "      <td>19.3</td>\n",
       "    </tr>\n",
       "    <tr>\n",
       "      <th>125</th>\n",
       "      <td>64.0</td>\n",
       "      <td>14.0</td>\n",
       "      <td>0.0</td>\n",
       "      <td>79.4</td>\n",
       "      <td>5.2</td>\n",
       "      <td>2.2</td>\n",
       "      <td>5.6</td>\n",
       "      <td>1.0</td>\n",
       "    </tr>\n",
       "    <tr>\n",
       "      <th>9</th>\n",
       "      <td>79.0</td>\n",
       "      <td>12.0</td>\n",
       "      <td>0.0</td>\n",
       "      <td>73.2</td>\n",
       "      <td>9.5</td>\n",
       "      <td>1.3</td>\n",
       "      <td>12.6</td>\n",
       "      <td>0.9</td>\n",
       "    </tr>\n",
       "  </tbody>\n",
       "</table>\n",
       "<p>162 rows × 8 columns</p>\n",
       "</div>"
      ],
      "text/plain": [
       "       RH    Ws  Rain  FFMC   DMC   ISI   BUI   FWI\n",
       "25   64.0  18.0   0.0  86.8  17.8   6.7  21.6  10.6\n",
       "121  78.0  14.0   1.4  45.0   1.9   0.2   2.4   0.1\n",
       "174  71.0  17.0   0.0  87.3  46.6   6.9  46.5  16.3\n",
       "72   51.0  13.0   0.3  81.3  15.6   2.5  20.7   4.2\n",
       "186  35.0  15.0   0.0  93.8  23.0  15.7  22.9  20.9\n",
       "..    ...   ...   ...   ...   ...   ...   ...   ...\n",
       "64   69.0  13.0   0.0  85.0   8.2   4.0   8.2   3.9\n",
       "15   89.0  13.0   0.7  36.1   1.7   0.0   2.2   0.0\n",
       "229  26.0  13.0   0.0  93.9  21.2  14.2  22.4  19.3\n",
       "125  64.0  14.0   0.0  79.4   5.2   2.2   5.6   1.0\n",
       "9    79.0  12.0   0.0  73.2   9.5   1.3  12.6   0.9\n",
       "\n",
       "[162 rows x 8 columns]"
      ]
     },
     "execution_count": 59,
     "metadata": {},
     "output_type": "execute_result"
    }
   ],
   "source": [
    "x_train"
   ]
  },
  {
   "cell_type": "markdown",
   "id": "6879e6f1",
   "metadata": {},
   "source": [
    "# Independent Test Dataset"
   ]
  },
  {
   "cell_type": "code",
   "execution_count": 60,
   "id": "4f55f02e",
   "metadata": {},
   "outputs": [
    {
     "data": {
      "text/html": [
       "<div>\n",
       "<style scoped>\n",
       "    .dataframe tbody tr th:only-of-type {\n",
       "        vertical-align: middle;\n",
       "    }\n",
       "\n",
       "    .dataframe tbody tr th {\n",
       "        vertical-align: top;\n",
       "    }\n",
       "\n",
       "    .dataframe thead th {\n",
       "        text-align: right;\n",
       "    }\n",
       "</style>\n",
       "<table border=\"1\" class=\"dataframe\">\n",
       "  <thead>\n",
       "    <tr style=\"text-align: right;\">\n",
       "      <th></th>\n",
       "      <th>RH</th>\n",
       "      <th>Ws</th>\n",
       "      <th>Rain</th>\n",
       "      <th>FFMC</th>\n",
       "      <th>DMC</th>\n",
       "      <th>ISI</th>\n",
       "      <th>BUI</th>\n",
       "      <th>FWI</th>\n",
       "    </tr>\n",
       "  </thead>\n",
       "  <tbody>\n",
       "    <tr>\n",
       "      <th>46</th>\n",
       "      <td>70.0</td>\n",
       "      <td>14.0</td>\n",
       "      <td>0.0</td>\n",
       "      <td>82.8</td>\n",
       "      <td>9.4</td>\n",
       "      <td>3.2</td>\n",
       "      <td>11.1</td>\n",
       "      <td>3.6</td>\n",
       "    </tr>\n",
       "    <tr>\n",
       "      <th>226</th>\n",
       "      <td>49.0</td>\n",
       "      <td>19.0</td>\n",
       "      <td>0.0</td>\n",
       "      <td>88.6</td>\n",
       "      <td>11.5</td>\n",
       "      <td>9.1</td>\n",
       "      <td>12.4</td>\n",
       "      <td>10.3</td>\n",
       "    </tr>\n",
       "    <tr>\n",
       "      <th>181</th>\n",
       "      <td>56.0</td>\n",
       "      <td>16.0</td>\n",
       "      <td>0.0</td>\n",
       "      <td>88.9</td>\n",
       "      <td>23.8</td>\n",
       "      <td>8.2</td>\n",
       "      <td>23.8</td>\n",
       "      <td>13.2</td>\n",
       "    </tr>\n",
       "    <tr>\n",
       "      <th>116</th>\n",
       "      <td>81.0</td>\n",
       "      <td>21.0</td>\n",
       "      <td>5.8</td>\n",
       "      <td>48.6</td>\n",
       "      <td>3.0</td>\n",
       "      <td>0.4</td>\n",
       "      <td>3.0</td>\n",
       "      <td>0.1</td>\n",
       "    </tr>\n",
       "    <tr>\n",
       "      <th>124</th>\n",
       "      <td>80.0</td>\n",
       "      <td>14.0</td>\n",
       "      <td>2.0</td>\n",
       "      <td>48.7</td>\n",
       "      <td>2.2</td>\n",
       "      <td>0.3</td>\n",
       "      <td>2.6</td>\n",
       "      <td>0.1</td>\n",
       "    </tr>\n",
       "    <tr>\n",
       "      <th>...</th>\n",
       "      <td>...</td>\n",
       "      <td>...</td>\n",
       "      <td>...</td>\n",
       "      <td>...</td>\n",
       "      <td>...</td>\n",
       "      <td>...</td>\n",
       "      <td>...</td>\n",
       "      <td>...</td>\n",
       "    </tr>\n",
       "    <tr>\n",
       "      <th>127</th>\n",
       "      <td>54.0</td>\n",
       "      <td>11.0</td>\n",
       "      <td>0.1</td>\n",
       "      <td>83.7</td>\n",
       "      <td>8.4</td>\n",
       "      <td>3.1</td>\n",
       "      <td>9.3</td>\n",
       "      <td>3.1</td>\n",
       "    </tr>\n",
       "    <tr>\n",
       "      <th>242</th>\n",
       "      <td>54.0</td>\n",
       "      <td>18.0</td>\n",
       "      <td>0.1</td>\n",
       "      <td>79.7</td>\n",
       "      <td>4.3</td>\n",
       "      <td>1.7</td>\n",
       "      <td>5.1</td>\n",
       "      <td>0.7</td>\n",
       "    </tr>\n",
       "    <tr>\n",
       "      <th>208</th>\n",
       "      <td>37.0</td>\n",
       "      <td>16.0</td>\n",
       "      <td>0.0</td>\n",
       "      <td>92.2</td>\n",
       "      <td>61.3</td>\n",
       "      <td>13.1</td>\n",
       "      <td>64.0</td>\n",
       "      <td>30.3</td>\n",
       "    </tr>\n",
       "    <tr>\n",
       "      <th>102</th>\n",
       "      <td>77.0</td>\n",
       "      <td>21.0</td>\n",
       "      <td>1.8</td>\n",
       "      <td>58.5</td>\n",
       "      <td>1.9</td>\n",
       "      <td>1.1</td>\n",
       "      <td>2.4</td>\n",
       "      <td>0.3</td>\n",
       "    </tr>\n",
       "    <tr>\n",
       "      <th>78</th>\n",
       "      <td>54.0</td>\n",
       "      <td>18.0</td>\n",
       "      <td>0.0</td>\n",
       "      <td>89.4</td>\n",
       "      <td>20.0</td>\n",
       "      <td>9.7</td>\n",
       "      <td>27.5</td>\n",
       "      <td>16.1</td>\n",
       "    </tr>\n",
       "  </tbody>\n",
       "</table>\n",
       "<p>81 rows × 8 columns</p>\n",
       "</div>"
      ],
      "text/plain": [
       "       RH    Ws  Rain  FFMC   DMC   ISI   BUI   FWI\n",
       "46   70.0  14.0   0.0  82.8   9.4   3.2  11.1   3.6\n",
       "226  49.0  19.0   0.0  88.6  11.5   9.1  12.4  10.3\n",
       "181  56.0  16.0   0.0  88.9  23.8   8.2  23.8  13.2\n",
       "116  81.0  21.0   5.8  48.6   3.0   0.4   3.0   0.1\n",
       "124  80.0  14.0   2.0  48.7   2.2   0.3   2.6   0.1\n",
       "..    ...   ...   ...   ...   ...   ...   ...   ...\n",
       "127  54.0  11.0   0.1  83.7   8.4   3.1   9.3   3.1\n",
       "242  54.0  18.0   0.1  79.7   4.3   1.7   5.1   0.7\n",
       "208  37.0  16.0   0.0  92.2  61.3  13.1  64.0  30.3\n",
       "102  77.0  21.0   1.8  58.5   1.9   1.1   2.4   0.3\n",
       "78   54.0  18.0   0.0  89.4  20.0   9.7  27.5  16.1\n",
       "\n",
       "[81 rows x 8 columns]"
      ]
     },
     "execution_count": 60,
     "metadata": {},
     "output_type": "execute_result"
    }
   ],
   "source": [
    "x_test"
   ]
  },
  {
   "cell_type": "markdown",
   "id": "2e89585b",
   "metadata": {},
   "source": [
    "# Dependent Taining Dataset"
   ]
  },
  {
   "cell_type": "code",
   "execution_count": 61,
   "id": "120a6fb2",
   "metadata": {},
   "outputs": [
    {
     "data": {
      "text/html": [
       "<div>\n",
       "<style scoped>\n",
       "    .dataframe tbody tr th:only-of-type {\n",
       "        vertical-align: middle;\n",
       "    }\n",
       "\n",
       "    .dataframe tbody tr th {\n",
       "        vertical-align: top;\n",
       "    }\n",
       "\n",
       "    .dataframe thead th {\n",
       "        text-align: right;\n",
       "    }\n",
       "</style>\n",
       "<table border=\"1\" class=\"dataframe\">\n",
       "  <thead>\n",
       "    <tr style=\"text-align: right;\">\n",
       "      <th></th>\n",
       "      <th>Temperature</th>\n",
       "    </tr>\n",
       "  </thead>\n",
       "  <tbody>\n",
       "    <tr>\n",
       "      <th>25</th>\n",
       "      <td>31.0</td>\n",
       "    </tr>\n",
       "    <tr>\n",
       "      <th>121</th>\n",
       "      <td>25.0</td>\n",
       "    </tr>\n",
       "    <tr>\n",
       "      <th>174</th>\n",
       "      <td>31.0</td>\n",
       "    </tr>\n",
       "    <tr>\n",
       "      <th>72</th>\n",
       "      <td>35.0</td>\n",
       "    </tr>\n",
       "    <tr>\n",
       "      <th>186</th>\n",
       "      <td>38.0</td>\n",
       "    </tr>\n",
       "    <tr>\n",
       "      <th>...</th>\n",
       "      <td>...</td>\n",
       "    </tr>\n",
       "    <tr>\n",
       "      <th>64</th>\n",
       "      <td>34.0</td>\n",
       "    </tr>\n",
       "    <tr>\n",
       "      <th>15</th>\n",
       "      <td>29.0</td>\n",
       "    </tr>\n",
       "    <tr>\n",
       "      <th>229</th>\n",
       "      <td>33.0</td>\n",
       "    </tr>\n",
       "    <tr>\n",
       "      <th>125</th>\n",
       "      <td>30.0</td>\n",
       "    </tr>\n",
       "    <tr>\n",
       "      <th>9</th>\n",
       "      <td>28.0</td>\n",
       "    </tr>\n",
       "  </tbody>\n",
       "</table>\n",
       "<p>162 rows × 1 columns</p>\n",
       "</div>"
      ],
      "text/plain": [
       "     Temperature\n",
       "25          31.0\n",
       "121         25.0\n",
       "174         31.0\n",
       "72          35.0\n",
       "186         38.0\n",
       "..           ...\n",
       "64          34.0\n",
       "15          29.0\n",
       "229         33.0\n",
       "125         30.0\n",
       "9           28.0\n",
       "\n",
       "[162 rows x 1 columns]"
      ]
     },
     "execution_count": 61,
     "metadata": {},
     "output_type": "execute_result"
    }
   ],
   "source": [
    "y_train"
   ]
  },
  {
   "cell_type": "markdown",
   "id": "afb80c56",
   "metadata": {},
   "source": [
    "# Dependent Test Dataset"
   ]
  },
  {
   "cell_type": "code",
   "execution_count": 62,
   "id": "482105c6",
   "metadata": {},
   "outputs": [
    {
     "data": {
      "text/html": [
       "<div>\n",
       "<style scoped>\n",
       "    .dataframe tbody tr th:only-of-type {\n",
       "        vertical-align: middle;\n",
       "    }\n",
       "\n",
       "    .dataframe tbody tr th {\n",
       "        vertical-align: top;\n",
       "    }\n",
       "\n",
       "    .dataframe thead th {\n",
       "        text-align: right;\n",
       "    }\n",
       "</style>\n",
       "<table border=\"1\" class=\"dataframe\">\n",
       "  <thead>\n",
       "    <tr style=\"text-align: right;\">\n",
       "      <th></th>\n",
       "      <th>Temperature</th>\n",
       "    </tr>\n",
       "  </thead>\n",
       "  <tbody>\n",
       "    <tr>\n",
       "      <th>46</th>\n",
       "      <td>29.0</td>\n",
       "    </tr>\n",
       "    <tr>\n",
       "      <th>226</th>\n",
       "      <td>29.0</td>\n",
       "    </tr>\n",
       "    <tr>\n",
       "      <th>181</th>\n",
       "      <td>36.0</td>\n",
       "    </tr>\n",
       "    <tr>\n",
       "      <th>116</th>\n",
       "      <td>26.0</td>\n",
       "    </tr>\n",
       "    <tr>\n",
       "      <th>124</th>\n",
       "      <td>29.0</td>\n",
       "    </tr>\n",
       "    <tr>\n",
       "      <th>...</th>\n",
       "      <td>...</td>\n",
       "    </tr>\n",
       "    <tr>\n",
       "      <th>127</th>\n",
       "      <td>35.0</td>\n",
       "    </tr>\n",
       "    <tr>\n",
       "      <th>242</th>\n",
       "      <td>24.0</td>\n",
       "    </tr>\n",
       "    <tr>\n",
       "      <th>208</th>\n",
       "      <td>33.0</td>\n",
       "    </tr>\n",
       "    <tr>\n",
       "      <th>102</th>\n",
       "      <td>30.0</td>\n",
       "    </tr>\n",
       "    <tr>\n",
       "      <th>78</th>\n",
       "      <td>36.0</td>\n",
       "    </tr>\n",
       "  </tbody>\n",
       "</table>\n",
       "<p>81 rows × 1 columns</p>\n",
       "</div>"
      ],
      "text/plain": [
       "     Temperature\n",
       "46          29.0\n",
       "226         29.0\n",
       "181         36.0\n",
       "116         26.0\n",
       "124         29.0\n",
       "..           ...\n",
       "127         35.0\n",
       "242         24.0\n",
       "208         33.0\n",
       "102         30.0\n",
       "78          36.0\n",
       "\n",
       "[81 rows x 1 columns]"
      ]
     },
     "execution_count": 62,
     "metadata": {},
     "output_type": "execute_result"
    }
   ],
   "source": [
    "y_test"
   ]
  },
  {
   "cell_type": "markdown",
   "id": "0c71318a",
   "metadata": {},
   "source": [
    "# standardizing or feature Scaling"
   ]
  },
  {
   "cell_type": "code",
   "execution_count": 63,
   "id": "cca0c3c4",
   "metadata": {},
   "outputs": [],
   "source": [
    "from sklearn.preprocessing import StandardScaler\n",
    "scaler=StandardScaler()"
   ]
  },
  {
   "cell_type": "code",
   "execution_count": 64,
   "id": "c52fa248",
   "metadata": {},
   "outputs": [
    {
     "data": {
      "text/plain": [
       "StandardScaler()"
      ]
     },
     "execution_count": 64,
     "metadata": {},
     "output_type": "execute_result"
    }
   ],
   "source": [
    "scaler"
   ]
  },
  {
   "cell_type": "code",
   "execution_count": 65,
   "id": "bfaa7ecf",
   "metadata": {},
   "outputs": [],
   "source": [
    "x_train = scaler.fit_transform(x_train) #In feature scaling the dtype should be numeric"
   ]
  },
  {
   "cell_type": "code",
   "execution_count": 66,
   "id": "e5f6a97b",
   "metadata": {},
   "outputs": [],
   "source": [
    "x_test = scaler.transform(x_test)"
   ]
  },
  {
   "cell_type": "code",
   "execution_count": 67,
   "id": "b43e8dd8",
   "metadata": {},
   "outputs": [
    {
     "data": {
      "text/plain": [
       "array([[ 0.06835876,  0.89673457, -0.42406458, ...,  0.48086219,\n",
       "         0.38986031,  0.52024214],\n",
       "       [ 0.99672801, -0.58185068,  0.40434065, ..., -1.07139989,\n",
       "        -1.0010797 , -0.93452011],\n",
       "       [ 0.53254338,  0.52708826, -0.42406458, ...,  0.5286241 ,\n",
       "         2.19373563,  1.30997022],\n",
       "       ...,\n",
       "       [-2.45150064, -0.95149699, -0.42406458, ...,  2.27193383,\n",
       "         0.44781614,  1.72561657],\n",
       "       [ 0.06835876, -0.58185068, -0.42406458, ..., -0.59378078,\n",
       "        -0.76925637, -0.8098262 ],\n",
       "       [ 1.0630401 , -1.3211433 , -0.42406458, ..., -0.80870938,\n",
       "        -0.26214282, -0.82368108]])"
      ]
     },
     "execution_count": 67,
     "metadata": {},
     "output_type": "execute_result"
    }
   ],
   "source": [
    "x_train"
   ]
  },
  {
   "cell_type": "code",
   "execution_count": 68,
   "id": "914b735b",
   "metadata": {},
   "outputs": [
    {
     "data": {
      "text/plain": [
       "array([[ 4.66231295e-01, -5.81850675e-01, -4.24064583e-01,\n",
       "         3.74594357e-01, -4.06694465e-01, -3.54971234e-01,\n",
       "        -3.70810009e-01, -4.49599362e-01],\n",
       "       [-9.26322582e-01,  1.26638088e+00, -4.24064583e-01,\n",
       "         7.58044470e-01, -2.28559462e-01,  1.05400512e+00,\n",
       "        -2.76631780e-01,  4.78677502e-01],\n",
       "       [-4.62137956e-01,  1.57441947e-01, -4.24064583e-01,\n",
       "         7.77878096e-01,  8.14802699e-01,  8.39076521e-01,\n",
       "         5.49238849e-01,  8.80468981e-01],\n",
       "       [ 1.19566428e+00,  2.00567350e+00,  3.00789995e+00,\n",
       "        -1.88643906e+00, -9.49582093e-01, -1.02363798e+00,\n",
       "        -9.57612824e-01, -9.34520112e-01],\n",
       "       [ 1.12935219e+00, -5.81850675e-01,  7.59371462e-01,\n",
       "        -1.87982786e+00, -1.01744305e+00, -1.04751893e+00,\n",
       "        -9.86590741e-01, -9.34520112e-01],\n",
       "       [-3.29513777e-01,  1.57441947e-01, -4.24064583e-01,\n",
       "         7.24988426e-01,  1.15410747e+00,  6.24147925e-01,\n",
       "         8.31773537e-01,  8.52759223e-01],\n",
       "       [-1.96889599e-01,  8.96734570e-01, -2.46549176e-01,\n",
       "        -2.24454621e-03, -2.45524700e-01, -5.93780785e-01,\n",
       "        -1.53475633e-01, -5.88148148e-01],\n",
       "       [-8.60010492e-01,  1.57441947e-01, -4.24064583e-01,\n",
       "         8.43990185e-01,  1.56975581e+00,  1.14952894e+00,\n",
       "         1.18675302e+00,  1.44851900e+00],\n",
       "       [ 4.66231295e-01,  1.57441947e-01, -4.24064583e-01,\n",
       "         5.86153040e-01, -1.18285412e-01,  1.70409778e-01,\n",
       "        -2.54898342e-01, -2.00981263e-02],\n",
       "       [-1.05894676e+00, -5.81850675e-01, -9.86196704e-03,\n",
       "         2.42002891e-02, -6.01794706e-01, -6.89304605e-01,\n",
       "        -6.82322615e-01, -8.23681083e-01],\n",
       "       [-3.29513777e-01, -2.06043592e+00, -3.05720978e-01,\n",
       "         7.70899598e-02, -2.87937796e-01, -7.37066515e-01,\n",
       "        -3.99787926e-01, -8.09826205e-01],\n",
       "       [ 2.04666942e-03, -5.81850675e-01, -4.24064583e-01,\n",
       "         6.52265128e-01, -2.79455177e-01,  2.18171689e-01,\n",
       "        -2.69387301e-01, -6.24324775e-03],\n",
       "       [-1.92100392e+00,  1.57441947e-01, -3.05720978e-01,\n",
       "         7.38210843e-01,  2.29501975e-01,  6.71909835e-01,\n",
       "         9.28366593e-02,  5.06387259e-01],\n",
       "       [ 1.06304010e+00, -2.12204364e-01, -4.24064583e-01,\n",
       "         5.46485787e-01,  1.21348580e+00,  3.24309267e-03,\n",
       "         1.53448802e+00,  5.34097016e-01],\n",
       "       [-6.61074224e-01,  5.27088259e-01, -1.28205572e-01,\n",
       "         2.02702928e-01,  5.51841504e-01, -4.74376009e-01,\n",
       "         1.04186343e+00, -1.30937155e-01],\n",
       "       [-6.61074224e-01,  8.96734570e-01, -4.24064583e-01,\n",
       "         7.84489305e-01,  6.28185077e-01,  1.07788607e+00,\n",
       "         6.94128433e-01,  1.12985679e+00],\n",
       "       [ 1.12935219e+00,  1.57441947e-01,  6.41027858e-01,\n",
       "        -1.96577357e+00, -9.58064712e-01, -1.04751893e+00,\n",
       "        -9.57612824e-01, -9.34520112e-01],\n",
       "       [-1.98731601e+00,  5.27088259e-01, -4.24064583e-01,\n",
       "         1.09521612e+00,  2.46467213e-01,  2.98836248e+00,\n",
       "         4.93697842e-02,  1.75332633e+00],\n",
       "       [ 1.34670848e-01, -5.81850675e-01, -4.24064583e-01,\n",
       "         4.86984908e-01, -1.43733270e-01, -1.63923593e-01,\n",
       "        -3.03194870e-02, -1.72501791e-01],\n",
       "       [ 1.12935219e+00,  2.00567350e+00,  9.51679820e+00,\n",
       "        -1.62860192e+00, -4.66072799e-01, -9.75876066e-01,\n",
       "        -5.73655427e-01, -9.06810355e-01],\n",
       "       [-1.30577509e-01,  8.96734570e-01, -2.46549176e-01,\n",
       "         2.02702928e-01, -2.11594223e-01, -4.50495054e-01,\n",
       "         1.00081139e-01, -3.66470091e-01],\n",
       "       [-5.94762135e-01, -5.81850675e-01,  1.41026129e+00,\n",
       "        -4.38584329e-01, -2.70972558e-01, -8.08709381e-01,\n",
       "        -4.14276884e-01, -8.37535962e-01],\n",
       "       [ 6.83587588e-02,  5.27088259e-01, -4.24064583e-01,\n",
       "         6.65487546e-01,  1.50189485e+00,  5.04743150e-01,\n",
       "         1.80977823e+00,  1.22684094e+00],\n",
       "       [ 6.83587588e-02, -2.43008223e+00,  2.85997044e-01,\n",
       "        -2.20414438e-01, -2.11594223e-01, -8.56471291e-01,\n",
       "        -3.49076572e-01, -8.51390840e-01],\n",
       "       [ 5.32543384e-01,  5.27088259e-01, -2.46549176e-01,\n",
       "        -4.98085209e-01, -9.32616855e-01, -7.60947470e-01,\n",
       "        -8.05478761e-01, -8.65245719e-01],\n",
       "       [-6.42654199e-02,  1.57441947e-01, -4.24064583e-01,\n",
       "         7.05154799e-01,  1.95571498e-01,  5.52505060e-01,\n",
       "         1.31473882e-02,  3.67838474e-01],\n",
       "       [-5.94762135e-01, -1.69078961e+00, -4.24064583e-01,\n",
       "         3.21704687e-01, -6.95103517e-01, -5.22137919e-01,\n",
       "        -7.25789490e-01, -7.12842055e-01],\n",
       "       [-2.63201688e-01,  8.96734570e-01, -3.64892781e-01,\n",
       "         6.38675421e-02, -4.83038037e-01, -5.46018875e-01,\n",
       "        -5.73655427e-01, -6.85132298e-01],\n",
       "       [ 2.04666942e-03, -5.81850675e-01, -2.46549176e-01,\n",
       "        -3.53005904e-02, -7.20551375e-01, -7.13185560e-01,\n",
       "        -7.76500844e-01, -8.37535962e-01],\n",
       "       [-9.26322582e-01, -3.53902117e+00,  7.59371462e-01,\n",
       "        -1.04681554e+00, -1.94628985e-01, -9.75876066e-01,\n",
       "        -3.12854176e-01, -8.92955476e-01],\n",
       "       [-5.94762135e-01, -9.51496987e-01, -4.24064583e-01,\n",
       "         7.31599634e-01, -3.64281369e-01,  4.09219329e-01,\n",
       "        -3.85298968e-01,  4.91762665e-02],\n",
       "       [-5.28450045e-01, -5.81850675e-01, -4.24064583e-01,\n",
       "         5.99375458e-01, -5.00003276e-01,  7.48859580e-02,\n",
       "        -5.80899906e-01, -2.69485941e-01],\n",
       "       [-1.32419512e+00, -2.12204364e-01,  7.00199660e-01,\n",
       "         3.41538313e-01, -4.06694465e-01, -3.54971234e-01,\n",
       "        -5.22944072e-01, -5.18873755e-01],\n",
       "       [ 6.83587588e-02, -2.12204364e-01, -4.24064583e-01,\n",
       "         6.32431502e-01,  4.71256622e-04,  2.42052644e-01,\n",
       "         1.50792493e-01,  2.15434809e-01],\n",
       "       [ 1.26197637e+00,  2.00567350e+00, -4.24064583e-01,\n",
       "         5.13429743e-01,  2.78277035e+00, -6.83997726e-02,\n",
       "         3.12102896e+00,  8.80468981e-01],\n",
       "       [ 1.12935219e+00,  1.57441947e-01, -1.87377374e-01,\n",
       "        -1.14598367e+00, -9.15651616e-01, -9.04233201e-01,\n",
       "        -8.05478761e-01, -8.92955476e-01],\n",
       "       [-7.93698403e-01,  1.57441947e-01,  1.82446390e+00,\n",
       "         2.42002891e-02, -5.25451133e-01, -6.41542695e-01,\n",
       "        -6.17122302e-01, -7.68261569e-01],\n",
       "       [-2.63201688e-01,  1.57441947e-01,  4.93098352e-02,\n",
       "        -1.93969602e-01, -6.10277325e-01, -7.37066515e-01,\n",
       "        -6.89567094e-01, -8.37535962e-01],\n",
       "       [-6.61074224e-01,  1.26638088e+00, -4.24064583e-01,\n",
       "         7.97711723e-01,  2.46467213e-01,  1.26893371e+00,\n",
       "         5.56483328e-01,  1.17142143e+00],\n",
       "       [-1.19157094e+00, -5.81850675e-01, -4.24064583e-01,\n",
       "         1.10146004e-01, -7.96894947e-01, -6.41542695e-01,\n",
       "        -8.34456678e-01, -8.23681083e-01],\n",
       "       [-5.28450045e-01, -2.12204364e-01, -4.24064583e-01,\n",
       "         8.04322932e-01,  1.19652056e+00,  8.62957476e-01,\n",
       "         8.75240413e-01,  1.06058240e+00],\n",
       "       [-1.45681930e+00, -2.12204364e-01, -4.24064583e-01,\n",
       "         8.10934140e-01, -7.58723161e-02,  8.86838431e-01,\n",
       "        -2.25920425e-01,  4.37112866e-01],\n",
       "       [-5.28450045e-01, -5.81850675e-01, -4.24064583e-01,\n",
       "         7.77878096e-01,  3.73706501e-01,  6.48028880e-01,\n",
       "         4.11593744e-01,  6.58790924e-01],\n",
       "       [-1.45681930e+00, -2.79972854e+00, -3.64892781e-01,\n",
       "         4.47317654e-01,  9.08111510e-01, -4.74376009e-01,\n",
       "         9.18707288e-01, -1.72501791e-01],\n",
       "       [-2.63201688e-01,  5.27088259e-01, -4.24064583e-01,\n",
       "         6.78709964e-01,  5.13669718e-02,  5.28624105e-01,\n",
       "         1.21814576e-01,  4.23257988e-01],\n",
       "       [-1.72206765e+00, -5.81850675e-01, -4.24064583e-01,\n",
       "         1.13488337e+00,  1.84119962e+00,  2.70179102e+00,\n",
       "         1.42582083e+00,  2.69545807e+00],\n",
       "       [-4.62137956e-01, -2.12204364e-01,  1.29191768e+00,\n",
       "        -1.54302349e-01, -6.01794706e-01, -7.37066515e-01,\n",
       "        -6.82322615e-01, -8.37535962e-01],\n",
       "       [-9.92634671e-01, -9.51496987e-01, -4.24064583e-01,\n",
       "         8.70435020e-01,  6.79080792e-01,  9.58481297e-01,\n",
       "         9.54929684e-01,  1.17142143e+00],\n",
       "       [ 2.67295027e-01,  1.26638088e+00, -4.24064583e-01,\n",
       "        -1.14635096e-01, -9.58064712e-01, -6.41542695e-01,\n",
       "        -8.85168032e-01, -8.37535962e-01],\n",
       "       [ 9.96728010e-01, -5.81850675e-01, -4.24064583e-01,\n",
       "         2.55592598e-01, -6.69655660e-01, -4.98256964e-01,\n",
       "        -5.66410948e-01, -6.43567662e-01],\n",
       "       [ 3.33607116e-01, -5.81850675e-01, -4.24064583e-01,\n",
       "         5.46485787e-01, -1.77663746e-01, -2.06378624e-02,\n",
       "        -1.46231154e-01, -1.17082276e-01],\n",
       "       [-2.58412482e+00, -2.43008223e+00, -4.24064583e-01,\n",
       "         1.24727392e+00,  1.36617295e+00,  2.63014815e+00,\n",
       "         1.02737448e+00,  2.37679587e+00],\n",
       "       [ 2.67295027e-01, -5.81850675e-01, -4.24064583e-01,\n",
       "         3.61371940e-01, -7.12068756e-01, -3.78852189e-01,\n",
       "        -6.67833656e-01, -6.02003026e-01],\n",
       "       [-9.26322582e-01, -1.69078961e+00, -4.24064583e-01,\n",
       "         8.10934140e-01, -3.72763988e-01,  5.04743150e-01,\n",
       "        -3.56321051e-01,  1.18450659e-01],\n",
       "       [ 1.26197637e+00, -2.12204364e-01, -1.87377374e-01,\n",
       "        -2.13105379e+00, -1.12771710e+00, -1.07139989e+00,\n",
       "        -1.07352449e+00, -9.48374990e-01],\n",
       "       [-1.65575556e+00, -2.12204364e-01, -4.24064583e-01,\n",
       "         9.89436779e-01,  3.14752298e+00,  1.79431473e+00,\n",
       "         2.80227188e+00,  2.77858734e+00],\n",
       "       [-5.28450045e-01, -2.12204364e-01, -4.24064583e-01,\n",
       "         7.91100514e-01,  5.68806742e-01,  7.91314611e-01,\n",
       "         3.31904473e-01,  7.14210438e-01],\n",
       "       [-3.29513777e-01, -9.51496987e-01, -3.05720978e-01,\n",
       "         1.56424466e-01,  3.82189120e-01, -6.17661740e-01,\n",
       "         5.92705724e-01, -4.21889605e-01],\n",
       "       [ 1.79247308e+00, -2.12204364e-01, -4.24064583e-01,\n",
       "        -6.83199056e-01, -5.93312087e-01, -8.32590336e-01,\n",
       "        -6.60589177e-01, -8.65245719e-01],\n",
       "       [ 1.34670848e-01, -2.12204364e-01, -3.64892781e-01,\n",
       "         2.82037434e-01, -1.60698508e-01, -4.50495054e-01,\n",
       "         2.03918674e-02, -3.94179848e-01],\n",
       "       [ 6.65167563e-01, -2.12204364e-01, -4.24064583e-01,\n",
       "         6.25820293e-01,  1.06079866e+00,  2.18171689e-01,\n",
       "         1.36062052e+00,  7.00355559e-01],\n",
       "       [-1.30577509e-01, -9.51496987e-01,  3.45168846e-01,\n",
       "        -8.41868068e-01, -8.56273282e-01, -8.80352246e-01,\n",
       "        -8.92412512e-01, -8.92955476e-01],\n",
       "       [ 1.26197637e+00,  2.37531982e+00,  7.32744151e+00,\n",
       "        -1.98560720e+00, -9.91995189e-01, -1.04751893e+00,\n",
       "        -9.79346262e-01, -9.34520112e-01],\n",
       "       [-1.72206765e+00, -9.51496987e-01, -4.24064583e-01,\n",
       "         1.01588161e+00,  1.10321175e+00,  1.67490995e+00,\n",
       "         7.88306662e-01,  1.60092267e+00],\n",
       "       [-5.94762135e-01, -5.81850675e-01, -4.24064583e-01,\n",
       "         9.16713482e-01,  4.38598538e+00,  1.26893371e+00,\n",
       "         3.75129865e+00,  2.66774832e+00],\n",
       "       [ 1.65984890e+00, -9.51496987e-01, -4.24064583e-01,\n",
       "        -4.05528285e-01, -9.83512570e-01, -8.32590336e-01,\n",
       "        -9.06901470e-01, -8.79100598e-01],\n",
       "       [ 2.00982937e-01,  2.37531982e+00, -1.87377374e-01,\n",
       "        -5.90642132e-01, -3.13385653e-01, -6.89304605e-01,\n",
       "        -5.92974038e-02, -6.57422540e-01],\n",
       "       [ 3.99919206e-01,  5.27088259e-01,  2.35701012e+00,\n",
       "        -9.87314662e-01, -8.73238520e-01, -8.56471291e-01,\n",
       "        -8.99656991e-01, -8.92955476e-01],\n",
       "       [-1.32419512e+00,  1.57441947e-01, -4.24064583e-01,\n",
       "         9.29935899e-01,  2.70642678e+00,  1.62714804e+00,\n",
       "         2.46178136e+00,  2.44607026e+00],\n",
       "       [ 8.64103831e-01,  1.63602719e+00, -9.86196704e-03,\n",
       "        -9.27813783e-01, -9.83512570e-01, -8.08709381e-01,\n",
       "        -9.57612824e-01, -8.79100598e-01],\n",
       "       [ 1.39460055e+00,  8.96734570e-01, -4.24064583e-01,\n",
       "         4.40706446e-01, -5.89070777e-02, -4.45188175e-02,\n",
       "        -1.58305286e-02, -7.55176406e-02],\n",
       "       [ 6.65167563e-01, -2.12204364e-01, -4.24064583e-01,\n",
       "         6.25820293e-01, -1.77663746e-01,  2.18171689e-01,\n",
       "        -1.96942509e-01,  3.53213880e-02],\n",
       "       [ 6.83587588e-02, -2.12204364e-01, -3.05720978e-01,\n",
       "        -6.50143012e-01, -8.81721139e-01, -8.32590336e-01,\n",
       "        -8.27212199e-01, -8.79100598e-01],\n",
       "       [ 3.99919206e-01, -9.51496987e-01, -9.86196704e-03,\n",
       "        -6.96421474e-01, -6.95103517e-01, -8.56471291e-01,\n",
       "        -7.54767407e-01, -8.79100598e-01],\n",
       "       [-6.61074224e-01,  1.57441947e-01, -4.24064583e-01,\n",
       "         8.17545349e-01,  1.98540415e+00,  1.36445753e+00,\n",
       "         2.26618042e+00,  2.14126293e+00],\n",
       "       [ 3.33607116e-01, -2.12204364e-01, -4.24064583e-01,\n",
       "         5.92764249e-01,  8.23285318e-01,  1.22647868e-01,\n",
       "         5.56483328e-01,  3.12418959e-01],\n",
       "       [-5.94762135e-01, -1.69078961e+00, -3.64892781e-01,\n",
       "         4.34095237e-01, -4.91520657e-01, -3.78852189e-01,\n",
       "        -5.01210635e-01, -5.18873755e-01],\n",
       "       [-5.94762135e-01,  8.96734570e-01, -3.64892781e-01,\n",
       "         1.69646883e-01, -8.39308043e-01, -7.13185560e-01,\n",
       "        -8.05478761e-01, -8.51390840e-01],\n",
       "       [-1.72206765e+00,  1.57441947e-01, -4.24064583e-01,\n",
       "         9.96047988e-01,  3.99578490e+00,  2.00924332e+00,\n",
       "         3.46151949e+00,  3.24965322e+00],\n",
       "       [ 9.30415920e-01,  2.00567350e+00,  6.41027858e-01,\n",
       "        -1.23192939e+00, -1.04289090e+00, -8.56471291e-01,\n",
       "        -1.00107970e+00, -9.06810355e-01],\n",
       "       [-5.94762135e-01,  8.96734570e-01, -4.24064583e-01,\n",
       "         8.10934140e-01,  4.92463170e-01,  1.19729085e+00,\n",
       "         8.17284579e-01,  1.28226046e+00]])"
      ]
     },
     "execution_count": 68,
     "metadata": {},
     "output_type": "execute_result"
    }
   ],
   "source": [
    "x_test"
   ]
  },
  {
   "cell_type": "markdown",
   "id": "c73cbf38",
   "metadata": {},
   "source": [
    "# Model selection"
   ]
  },
  {
   "cell_type": "code",
   "execution_count": 69,
   "id": "7ebdc8dc",
   "metadata": {},
   "outputs": [],
   "source": [
    "from sklearn.linear_model import LinearRegression"
   ]
  },
  {
   "cell_type": "code",
   "execution_count": 70,
   "id": "9d0bf7f1",
   "metadata": {},
   "outputs": [],
   "source": [
    "regression=LinearRegression()"
   ]
  },
  {
   "cell_type": "code",
   "execution_count": 71,
   "id": "9463bb60",
   "metadata": {},
   "outputs": [
    {
     "data": {
      "text/plain": [
       "LinearRegression()"
      ]
     },
     "execution_count": 71,
     "metadata": {},
     "output_type": "execute_result"
    }
   ],
   "source": [
    "regression"
   ]
  },
  {
   "cell_type": "code",
   "execution_count": 72,
   "id": "d0a31e67",
   "metadata": {},
   "outputs": [
    {
     "data": {
      "text/plain": [
       "LinearRegression()"
      ]
     },
     "execution_count": 72,
     "metadata": {},
     "output_type": "execute_result"
    }
   ],
   "source": [
    "regression.fit(x_train,y_train)"
   ]
  },
  {
   "cell_type": "markdown",
   "id": "d38e1e1d",
   "metadata": {},
   "source": [
    "# coefficient"
   ]
  },
  {
   "cell_type": "code",
   "execution_count": 73,
   "id": "4cb36fa4",
   "metadata": {},
   "outputs": [
    {
     "name": "stdout",
     "output_type": "stream",
     "text": [
      "[[-1.49942033 -0.72669584 -0.24094423  0.94580058  0.02696882  0.30031924\n",
      "   0.70429477 -0.51317749]]\n"
     ]
    }
   ],
   "source": [
    "print(regression.coef_)"
   ]
  },
  {
   "cell_type": "markdown",
   "id": "8bc55420",
   "metadata": {},
   "source": [
    "# Intercept"
   ]
  },
  {
   "cell_type": "code",
   "execution_count": 74,
   "id": "d4d6cc48",
   "metadata": {},
   "outputs": [
    {
     "name": "stdout",
     "output_type": "stream",
     "text": [
      "[32.07407407]\n"
     ]
    }
   ],
   "source": [
    "print(regression.intercept_)"
   ]
  },
  {
   "cell_type": "markdown",
   "id": "12485e14",
   "metadata": {},
   "source": [
    "# Prediction of Test Data"
   ]
  },
  {
   "cell_type": "code",
   "execution_count": 75,
   "id": "10237b33",
   "metadata": {},
   "outputs": [],
   "source": [
    "reg_pred = regression.predict(x_test)"
   ]
  },
  {
   "cell_type": "code",
   "execution_count": 76,
   "id": "3f467b1b",
   "metadata": {},
   "outputs": [
    {
     "data": {
      "text/plain": [
       "array([[32.1062853 ],\n",
       "       [33.23177927],\n",
       "       [33.69944846],\n",
       "       [25.78693054],\n",
       "       [28.28531512],\n",
       "       [33.60837717],\n",
       "       [31.78370976],\n",
       "       [34.62963791],\n",
       "       [31.79592244],\n",
       "       [33.82887089],\n",
       "       [34.11693283],\n",
       "       [33.08438278],\n",
       "       [35.62541063],\n",
       "       [32.09372622],\n",
       "       [33.57826754],\n",
       "       [33.50750056],\n",
       "       [27.71731131],\n",
       "       [35.84800816],\n",
       "       [32.87180531],\n",
       "       [24.84552394],\n",
       "       [31.98688456],\n",
       "       [32.52194611],\n",
       "       [33.15725573],\n",
       "       [33.38826934],\n",
       "       [30.10390158],\n",
       "       [32.81682972],\n",
       "       [34.28009726],\n",
       "       [31.73596054],\n",
       "       [32.16915436],\n",
       "       [34.80134786],\n",
       "       [34.26791669],\n",
       "       [33.6965114 ],\n",
       "       [34.14852005],\n",
       "       [32.89446543],\n",
       "       [31.1128983 ],\n",
       "       [28.82226101],\n",
       "       [32.48582391],\n",
       "       [31.86530654],\n",
       "       [33.18019393],\n",
       "       [34.11075249],\n",
       "       [34.24714756],\n",
       "       [35.16268187],\n",
       "       [34.28366537],\n",
       "       [37.42159298],\n",
       "       [32.85851957],\n",
       "       [36.7365596 ],\n",
       "       [32.17566519],\n",
       "       [35.5569027 ],\n",
       "       [30.33464663],\n",
       "       [31.10995204],\n",
       "       [32.56183256],\n",
       "       [39.32712683],\n",
       "       [32.24567905],\n",
       "       [35.39065847],\n",
       "       [27.74407648],\n",
       "       [36.92041061],\n",
       "       [33.991279  ],\n",
       "       [33.93996597],\n",
       "       [28.70934868],\n",
       "       [32.45804381],\n",
       "       [32.6179943 ],\n",
       "       [31.62415159],\n",
       "       [24.26069602],\n",
       "       [36.67702635],\n",
       "       [36.13026673],\n",
       "       [29.53118043],\n",
       "       [29.61324748],\n",
       "       [29.13353939],\n",
       "       [35.96710111],\n",
       "       [28.2216722 ],\n",
       "       [29.86297079],\n",
       "       [31.8288915 ],\n",
       "       [31.1792512 ],\n",
       "       [31.15317132],\n",
       "       [34.78682851],\n",
       "       [32.68151596],\n",
       "       [34.4792906 ],\n",
       "       [32.1953918 ],\n",
       "       [37.06746081],\n",
       "       [27.37682255],\n",
       "       [33.4738098 ]])"
      ]
     },
     "execution_count": 76,
     "metadata": {},
     "output_type": "execute_result"
    }
   ],
   "source": [
    "reg_pred"
   ]
  },
  {
   "cell_type": "code",
   "execution_count": 77,
   "id": "a318b871",
   "metadata": {},
   "outputs": [
    {
     "data": {
      "text/plain": [
       "<AxesSubplot:ylabel='Density'>"
      ]
     },
     "execution_count": 77,
     "metadata": {},
     "output_type": "execute_result"
    },
    {
     "data": {
      "image/png": "[encoded data removed]",
      "text/plain": [
       "<Figure size 1440x720 with 1 Axes>"
      ]
     },
     "metadata": {
      "needs_background": "light"
     },
     "output_type": "display_data"
    }
   ],
   "source": [
    "sns.distplot(reg_pred-y_test)"
   ]
  },
  {
   "cell_type": "markdown",
   "id": "fef92f7c",
   "metadata": {},
   "source": [
    "# Assumption Of Linear Regression"
   ]
  },
  {
   "cell_type": "code",
   "execution_count": 78,
   "id": "aac9ac2b",
   "metadata": {},
   "outputs": [
    {
     "data": {
      "text/plain": [
       "Text(0, 0.5, 'Test Predicted data')"
      ]
     },
     "execution_count": 78,
     "metadata": {},
     "output_type": "execute_result"
    },
    {
     "data": {
      "image/png": "[encoded data removed]",
      "text/plain": [
       "<Figure size 1440x720 with 1 Axes>"
      ]
     },
     "metadata": {
      "needs_background": "light"
     },
     "output_type": "display_data"
    }
   ],
   "source": [
    "plt.scatter(y_test,reg_pred)\n",
    "plt.xlabel('Test Truth data')\n",
    "plt.ylabel('Test Predicted data')"
   ]
  },
  {
   "cell_type": "markdown",
   "id": "8065666e",
   "metadata": {},
   "source": [
    "# Residuals"
   ]
  },
  {
   "cell_type": "code",
   "execution_count": 79,
   "id": "6636996b",
   "metadata": {},
   "outputs": [],
   "source": [
    "residual = y_test-reg_pred"
   ]
  },
  {
   "cell_type": "code",
   "execution_count": 80,
   "id": "c137ef52",
   "metadata": {},
   "outputs": [
    {
     "data": {
      "text/html": [
       "<div>\n",
       "<style scoped>\n",
       "    .dataframe tbody tr th:only-of-type {\n",
       "        vertical-align: middle;\n",
       "    }\n",
       "\n",
       "    .dataframe tbody tr th {\n",
       "        vertical-align: top;\n",
       "    }\n",
       "\n",
       "    .dataframe thead th {\n",
       "        text-align: right;\n",
       "    }\n",
       "</style>\n",
       "<table border=\"1\" class=\"dataframe\">\n",
       "  <thead>\n",
       "    <tr style=\"text-align: right;\">\n",
       "      <th></th>\n",
       "      <th>Temperature</th>\n",
       "    </tr>\n",
       "  </thead>\n",
       "  <tbody>\n",
       "    <tr>\n",
       "      <th>46</th>\n",
       "      <td>-3.106285</td>\n",
       "    </tr>\n",
       "    <tr>\n",
       "      <th>226</th>\n",
       "      <td>-4.231779</td>\n",
       "    </tr>\n",
       "    <tr>\n",
       "      <th>181</th>\n",
       "      <td>2.300552</td>\n",
       "    </tr>\n",
       "    <tr>\n",
       "      <th>116</th>\n",
       "      <td>0.213069</td>\n",
       "    </tr>\n",
       "    <tr>\n",
       "      <th>124</th>\n",
       "      <td>0.714685</td>\n",
       "    </tr>\n",
       "    <tr>\n",
       "      <th>...</th>\n",
       "      <td>...</td>\n",
       "    </tr>\n",
       "    <tr>\n",
       "      <th>127</th>\n",
       "      <td>0.520709</td>\n",
       "    </tr>\n",
       "    <tr>\n",
       "      <th>242</th>\n",
       "      <td>-8.195392</td>\n",
       "    </tr>\n",
       "    <tr>\n",
       "      <th>208</th>\n",
       "      <td>-4.067461</td>\n",
       "    </tr>\n",
       "    <tr>\n",
       "      <th>102</th>\n",
       "      <td>2.623177</td>\n",
       "    </tr>\n",
       "    <tr>\n",
       "      <th>78</th>\n",
       "      <td>2.526190</td>\n",
       "    </tr>\n",
       "  </tbody>\n",
       "</table>\n",
       "<p>81 rows × 1 columns</p>\n",
       "</div>"
      ],
      "text/plain": [
       "     Temperature\n",
       "46     -3.106285\n",
       "226    -4.231779\n",
       "181     2.300552\n",
       "116     0.213069\n",
       "124     0.714685\n",
       "..           ...\n",
       "127     0.520709\n",
       "242    -8.195392\n",
       "208    -4.067461\n",
       "102     2.623177\n",
       "78      2.526190\n",
       "\n",
       "[81 rows x 1 columns]"
      ]
     },
     "execution_count": 80,
     "metadata": {},
     "output_type": "execute_result"
    }
   ],
   "source": [
    "residual"
   ]
  },
  {
   "cell_type": "code",
   "execution_count": 81,
   "id": "031f193b",
   "metadata": {},
   "outputs": [
    {
     "data": {
      "text/plain": [
       "<seaborn.axisgrid.FacetGrid at 0x2affa14a790>"
      ]
     },
     "execution_count": 81,
     "metadata": {},
     "output_type": "execute_result"
    },
    {
     "data": {
      "image/png": "[encoded data removed]",
      "text/plain": [
       "<Figure size 458.875x360 with 1 Axes>"
      ]
     },
     "metadata": {
      "needs_background": "light"
     },
     "output_type": "display_data"
    }
   ],
   "source": [
    "sns.displot(residual,kind='kde')"
   ]
  },
  {
   "cell_type": "markdown",
   "id": "6b0d257b",
   "metadata": {},
   "source": [
    "# scatter plot Prediction"
   ]
  },
  {
   "cell_type": "code",
   "execution_count": 82,
   "id": "e927ae5c",
   "metadata": {},
   "outputs": [
    {
     "data": {
      "text/plain": [
       "<matplotlib.collections.PathCollection at 0x2affa4fec10>"
      ]
     },
     "execution_count": 82,
     "metadata": {},
     "output_type": "execute_result"
    },
    {
     "data": {
      "image/png": "[encoded data removed]",
      "text/plain": [
       "<Figure size 1440x720 with 1 Axes>"
      ]
     },
     "metadata": {
      "needs_background": "light"
     },
     "output_type": "display_data"
    }
   ],
   "source": [
    "plt.scatter(reg_pred,residual)"
   ]
  },
  {
   "cell_type": "markdown",
   "id": "51fd6287",
   "metadata": {},
   "source": [
    "# Performance Metrics"
   ]
  },
  {
   "cell_type": "code",
   "execution_count": 83,
   "id": "e7d72d8f",
   "metadata": {},
   "outputs": [
    {
     "name": "stdout",
     "output_type": "stream",
     "text": [
      "8.097669858203009\n",
      "2.1776484895634596\n",
      "2.8456405005205787\n"
     ]
    }
   ],
   "source": [
    "from sklearn.metrics import mean_squared_error\n",
    "from sklearn.metrics import mean_absolute_error\n",
    "print(mean_squared_error(y_test,reg_pred))\n",
    "print(mean_absolute_error(y_test,reg_pred))\n",
    "print(np.sqrt(mean_squared_error(y_test,reg_pred)))"
   ]
  },
  {
   "cell_type": "markdown",
   "id": "aefc8b4d",
   "metadata": {},
   "source": [
    "# R Square & Adjusted R Square"
   ]
  },
  {
   "cell_type": "code",
   "execution_count": 84,
   "id": "c7099896",
   "metadata": {},
   "outputs": [
    {
     "name": "stdout",
     "output_type": "stream",
     "text": [
      "0.4150355419308779\n"
     ]
    }
   ],
   "source": [
    "from sklearn.metrics import r2_score\n",
    "score=r2_score(y_test,reg_pred)\n",
    "print(score)"
   ]
  },
  {
   "cell_type": "markdown",
   "id": "762bfdba",
   "metadata": {},
   "source": [
    "# Adjusted R2"
   ]
  },
  {
   "cell_type": "code",
   "execution_count": 85,
   "id": "019fbaf7",
   "metadata": {},
   "outputs": [
    {
     "data": {
      "text/plain": [
       "0.35003949103430876"
      ]
     },
     "execution_count": 85,
     "metadata": {},
     "output_type": "execute_result"
    }
   ],
   "source": [
    "1-(1-score)*(len(y_test)-1)/(len(y_test)-x_test.shape[1]-1)"
   ]
  },
  {
   "cell_type": "markdown",
   "id": "d35b212b",
   "metadata": {},
   "source": [
    "Model is perfect"
   ]
  },
  {
   "cell_type": "markdown",
   "id": "1ac8eb4a",
   "metadata": {},
   "source": [
    "# Ridge Regression"
   ]
  },
  {
   "cell_type": "code",
   "execution_count": 86,
   "id": "d71f9250",
   "metadata": {},
   "outputs": [],
   "source": [
    "from sklearn.linear_model import Ridge\n",
    "ridge=Ridge()"
   ]
  },
  {
   "cell_type": "code",
   "execution_count": 87,
   "id": "fbd1b072",
   "metadata": {},
   "outputs": [
    {
     "data": {
      "text/plain": [
       "Ridge()"
      ]
     },
     "execution_count": 87,
     "metadata": {},
     "output_type": "execute_result"
    }
   ],
   "source": [
    "ridge.fit(x_train,y_train)"
   ]
  },
  {
   "cell_type": "code",
   "execution_count": 88,
   "id": "338c106a",
   "metadata": {},
   "outputs": [
    {
     "data": {
      "text/plain": [
       "Ridge()"
      ]
     },
     "execution_count": 88,
     "metadata": {},
     "output_type": "execute_result"
    }
   ],
   "source": [
    "ridge"
   ]
  },
  {
   "cell_type": "code",
   "execution_count": 89,
   "id": "34e125b8",
   "metadata": {},
   "outputs": [
    {
     "name": "stdout",
     "output_type": "stream",
     "text": [
      "[[-1.47824589 -0.72459482 -0.24303841  0.9564332   0.12126801  0.21683467\n",
      "   0.54347245 -0.37498665]]\n"
     ]
    }
   ],
   "source": [
    "#cofficient\n",
    "print(ridge.coef_)"
   ]
  },
  {
   "cell_type": "code",
   "execution_count": 90,
   "id": "71b283a2",
   "metadata": {},
   "outputs": [
    {
     "name": "stdout",
     "output_type": "stream",
     "text": [
      "[32.07407407]\n"
     ]
    }
   ],
   "source": [
    "#intercept\n",
    "print(ridge.intercept_)"
   ]
  },
  {
   "cell_type": "code",
   "execution_count": 91,
   "id": "af96bbe7",
   "metadata": {},
   "outputs": [],
   "source": [
    "rid_pred = ridge.predict(x_test)"
   ]
  },
  {
   "cell_type": "code",
   "execution_count": 92,
   "id": "6d7194f6",
   "metadata": {},
   "outputs": [
    {
     "data": {
      "text/plain": [
       "array([[32.10859366],\n",
       "       [33.22486495],\n",
       "       [33.73928087],\n",
       "       [25.81088169],\n",
       "       [28.30745958],\n",
       "       [33.65112773],\n",
       "       [31.75174162],\n",
       "       [34.68299483],\n",
       "       [31.82608098],\n",
       "       [33.80220883],\n",
       "       [34.09385207],\n",
       "       [33.08892135],\n",
       "       [35.61415021],\n",
       "       [32.06367568],\n",
       "       [33.47379291],\n",
       "       [33.518371  ],\n",
       "       [27.74128207],\n",
       "       [35.82768176],\n",
       "       [32.86066944],\n",
       "       [24.84086909],\n",
       "       [31.93959342],\n",
       "       [32.49336066],\n",
       "       [33.14574922],\n",
       "       [33.37170249],\n",
       "       [30.09705796],\n",
       "       [32.84521954],\n",
       "       [34.26451741],\n",
       "       [31.73132631],\n",
       "       [32.16884764],\n",
       "       [34.75161019],\n",
       "       [34.26223615],\n",
       "       [33.69413974],\n",
       "       [34.12588135],\n",
       "       [32.88843661],\n",
       "       [31.03804604],\n",
       "       [28.82999779],\n",
       "       [32.46287475],\n",
       "       [31.8570415 ],\n",
       "       [33.16791663],\n",
       "       [34.08514481],\n",
       "       [34.29154409],\n",
       "       [35.15644513],\n",
       "       [34.28639742],\n",
       "       [37.34403412],\n",
       "       [32.86177016],\n",
       "       [36.80307776],\n",
       "       [32.15986551],\n",
       "       [35.53635226],\n",
       "       [30.3324655 ],\n",
       "       [31.11404554],\n",
       "       [32.5666796 ],\n",
       "       [39.35393254],\n",
       "       [32.24353884],\n",
       "       [35.37338571],\n",
       "       [27.7727785 ],\n",
       "       [36.97663221],\n",
       "       [34.02183821],\n",
       "       [33.86727678],\n",
       "       [28.74070936],\n",
       "       [32.42891662],\n",
       "       [32.59895825],\n",
       "       [31.62258499],\n",
       "       [24.27821699],\n",
       "       [36.70891136],\n",
       "       [36.20010998],\n",
       "       [29.56203426],\n",
       "       [29.56328696],\n",
       "       [29.13812422],\n",
       "       [36.01165577],\n",
       "       [28.24085418],\n",
       "       [29.89023046],\n",
       "       [31.85165871],\n",
       "       [31.17189371],\n",
       "       [31.15811036],\n",
       "       [34.78750355],\n",
       "       [32.7163992 ],\n",
       "       [34.46270474],\n",
       "       [32.1795285 ],\n",
       "       [37.14424767],\n",
       "       [27.39513792],\n",
       "       [33.46485315]])"
      ]
     },
     "execution_count": 92,
     "metadata": {},
     "output_type": "execute_result"
    }
   ],
   "source": [
    "rid_pred"
   ]
  },
  {
   "cell_type": "code",
   "execution_count": 93,
   "id": "62247ebf",
   "metadata": {},
   "outputs": [
    {
     "data": {
      "text/plain": [
       "<seaborn.axisgrid.FacetGrid at 0x2affa552b20>"
      ]
     },
     "execution_count": 93,
     "metadata": {},
     "output_type": "execute_result"
    },
    {
     "data": {
      "image/png": "[encoded data removed]",
      "text/plain": [
       "<Figure size 458.875x360 with 1 Axes>"
      ]
     },
     "metadata": {
      "needs_background": "light"
     },
     "output_type": "display_data"
    }
   ],
   "source": [
    "import seaborn as sns\n",
    "sns.displot(rid_pred-y_test,kind='kde')"
   ]
  },
  {
   "cell_type": "markdown",
   "id": "ea76fb2d",
   "metadata": {},
   "source": [
    "# Assumption on Ridge Regression"
   ]
  },
  {
   "cell_type": "code",
   "execution_count": 94,
   "id": "43f8af79",
   "metadata": {},
   "outputs": [
    {
     "data": {
      "text/plain": [
       "Text(0, 0.5, 'Test Predicted data')"
      ]
     },
     "execution_count": 94,
     "metadata": {},
     "output_type": "execute_result"
    },
    {
     "data": {
      "image/png": "[encoded data removed]",
      "text/plain": [
       "<Figure size 1440x720 with 1 Axes>"
      ]
     },
     "metadata": {
      "needs_background": "light"
     },
     "output_type": "display_data"
    }
   ],
   "source": [
    "plt.scatter(y_test,rid_pred)\n",
    "plt.xlabel(\"Test Truth Data\")\n",
    "plt.ylabel(\"Test Predicted data\")"
   ]
  },
  {
   "cell_type": "markdown",
   "id": "34b003e6",
   "metadata": {},
   "source": [
    "# Rsidual"
   ]
  },
  {
   "cell_type": "code",
   "execution_count": 95,
   "id": "b9c8415d",
   "metadata": {},
   "outputs": [],
   "source": [
    "residual = y_test-rid_pred"
   ]
  },
  {
   "cell_type": "code",
   "execution_count": 96,
   "id": "257182d8",
   "metadata": {},
   "outputs": [
    {
     "data": {
      "text/html": [
       "<div>\n",
       "<style scoped>\n",
       "    .dataframe tbody tr th:only-of-type {\n",
       "        vertical-align: middle;\n",
       "    }\n",
       "\n",
       "    .dataframe tbody tr th {\n",
       "        vertical-align: top;\n",
       "    }\n",
       "\n",
       "    .dataframe thead th {\n",
       "        text-align: right;\n",
       "    }\n",
       "</style>\n",
       "<table border=\"1\" class=\"dataframe\">\n",
       "  <thead>\n",
       "    <tr style=\"text-align: right;\">\n",
       "      <th></th>\n",
       "      <th>Temperature</th>\n",
       "    </tr>\n",
       "  </thead>\n",
       "  <tbody>\n",
       "    <tr>\n",
       "      <th>46</th>\n",
       "      <td>-3.108594</td>\n",
       "    </tr>\n",
       "    <tr>\n",
       "      <th>226</th>\n",
       "      <td>-4.224865</td>\n",
       "    </tr>\n",
       "    <tr>\n",
       "      <th>181</th>\n",
       "      <td>2.260719</td>\n",
       "    </tr>\n",
       "    <tr>\n",
       "      <th>116</th>\n",
       "      <td>0.189118</td>\n",
       "    </tr>\n",
       "    <tr>\n",
       "      <th>124</th>\n",
       "      <td>0.692540</td>\n",
       "    </tr>\n",
       "    <tr>\n",
       "      <th>...</th>\n",
       "      <td>...</td>\n",
       "    </tr>\n",
       "    <tr>\n",
       "      <th>127</th>\n",
       "      <td>0.537295</td>\n",
       "    </tr>\n",
       "    <tr>\n",
       "      <th>242</th>\n",
       "      <td>-8.179529</td>\n",
       "    </tr>\n",
       "    <tr>\n",
       "      <th>208</th>\n",
       "      <td>-4.144248</td>\n",
       "    </tr>\n",
       "    <tr>\n",
       "      <th>102</th>\n",
       "      <td>2.604862</td>\n",
       "    </tr>\n",
       "    <tr>\n",
       "      <th>78</th>\n",
       "      <td>2.535147</td>\n",
       "    </tr>\n",
       "  </tbody>\n",
       "</table>\n",
       "<p>81 rows × 1 columns</p>\n",
       "</div>"
      ],
      "text/plain": [
       "     Temperature\n",
       "46     -3.108594\n",
       "226    -4.224865\n",
       "181     2.260719\n",
       "116     0.189118\n",
       "124     0.692540\n",
       "..           ...\n",
       "127     0.537295\n",
       "242    -8.179529\n",
       "208    -4.144248\n",
       "102     2.604862\n",
       "78      2.535147\n",
       "\n",
       "[81 rows x 1 columns]"
      ]
     },
     "execution_count": 96,
     "metadata": {},
     "output_type": "execute_result"
    }
   ],
   "source": [
    "residual"
   ]
  },
  {
   "cell_type": "code",
   "execution_count": 97,
   "id": "bb4cfd40",
   "metadata": {},
   "outputs": [
    {
     "data": {
      "text/plain": [
       "<seaborn.axisgrid.FacetGrid at 0x2affa4d5160>"
      ]
     },
     "execution_count": 97,
     "metadata": {},
     "output_type": "execute_result"
    },
    {
     "data": {
      "image/png": "[encoded data removed]",
      "text/plain": [
       "<Figure size 458.875x360 with 1 Axes>"
      ]
     },
     "metadata": {
      "needs_background": "light"
     },
     "output_type": "display_data"
    }
   ],
   "source": [
    "sns.displot(residual,kind='kde')"
   ]
  },
  {
   "cell_type": "markdown",
   "id": "5c71b93b",
   "metadata": {},
   "source": [
    "# Performance Matrix"
   ]
  },
  {
   "cell_type": "code",
   "execution_count": 98,
   "id": "c2b964f8",
   "metadata": {},
   "outputs": [
    {
     "name": "stdout",
     "output_type": "stream",
     "text": [
      "8.074673439626329\n",
      "2.1776037373320616\n",
      "2.8415969875452656\n"
     ]
    }
   ],
   "source": [
    "from sklearn.metrics import mean_squared_error\n",
    "from sklearn.metrics import mean_absolute_error\n",
    "print(mean_squared_error(y_test,rid_pred))\n",
    "print(mean_absolute_error(y_test,rid_pred))\n",
    "print(np.sqrt(mean_squared_error(y_test,rid_pred)))"
   ]
  },
  {
   "cell_type": "markdown",
   "id": "e7447ccb",
   "metadata": {},
   "source": [
    "# R Square"
   ]
  },
  {
   "cell_type": "code",
   "execution_count": 99,
   "id": "3faffd07",
   "metadata": {},
   "outputs": [
    {
     "name": "stdout",
     "output_type": "stream",
     "text": [
      "0.41669677136672745\n"
     ]
    }
   ],
   "source": [
    "from sklearn.metrics import r2_score\n",
    "score=r2_score(y_test,rid_pred)\n",
    "print(score)"
   ]
  },
  {
   "cell_type": "markdown",
   "id": "13be0937",
   "metadata": {},
   "source": [
    "# Adujusted R Square"
   ]
  },
  {
   "cell_type": "code",
   "execution_count": 100,
   "id": "4455f73f",
   "metadata": {},
   "outputs": [
    {
     "data": {
      "text/plain": [
       "0.351885301518586"
      ]
     },
     "execution_count": 100,
     "metadata": {},
     "output_type": "execute_result"
    }
   ],
   "source": [
    "1-(1-score)*(len(y_test)-1)/(len(y_test)-x_test.shape[1]-1)"
   ]
  },
  {
   "cell_type": "markdown",
   "id": "86d44caf",
   "metadata": {},
   "source": [
    "# Lasso Regression"
   ]
  },
  {
   "cell_type": "code",
   "execution_count": 102,
   "id": "f3874868",
   "metadata": {},
   "outputs": [],
   "source": [
    "from sklearn.linear_model import Lasso"
   ]
  },
  {
   "cell_type": "code",
   "execution_count": 112,
   "id": "26586b68",
   "metadata": {},
   "outputs": [],
   "source": [
    "lasso=Lasso()"
   ]
  },
  {
   "cell_type": "code",
   "execution_count": 113,
   "id": "06d1ea2f",
   "metadata": {},
   "outputs": [
    {
     "data": {
      "text/plain": [
       "Lasso()"
      ]
     },
     "execution_count": 113,
     "metadata": {},
     "output_type": "execute_result"
    }
   ],
   "source": [
    "lasso"
   ]
  },
  {
   "cell_type": "code",
   "execution_count": 114,
   "id": "7cb0d57e",
   "metadata": {},
   "outputs": [
    {
     "data": {
      "text/plain": [
       "Lasso()"
      ]
     },
     "execution_count": 114,
     "metadata": {},
     "output_type": "execute_result"
    }
   ],
   "source": [
    "lasso.fit(x_train,y_train)"
   ]
  },
  {
   "cell_type": "markdown",
   "id": "841b695b",
   "metadata": {},
   "source": [
    "# Cofficient & Intercept"
   ]
  },
  {
   "cell_type": "code",
   "execution_count": 115,
   "id": "a2dac1a6",
   "metadata": {},
   "outputs": [
    {
     "name": "stdout",
     "output_type": "stream",
     "text": [
      "[-0.88423537 -0.         -0.          0.88313134  0.          0.\n",
      "  0.          0.        ]\n"
     ]
    }
   ],
   "source": [
    "print(lasso.coef_)"
   ]
  },
  {
   "cell_type": "code",
   "execution_count": 116,
   "id": "7f8da947",
   "metadata": {},
   "outputs": [
    {
     "name": "stdout",
     "output_type": "stream",
     "text": [
      "[32.07407407]\n"
     ]
    }
   ],
   "source": [
    "print(lasso.intercept_)"
   ]
  },
  {
   "cell_type": "markdown",
   "id": "e04f522e",
   "metadata": {},
   "source": [
    "# Predict Test Data"
   ]
  },
  {
   "cell_type": "code",
   "execution_count": 117,
   "id": "29a3d592",
   "metadata": {},
   "outputs": [],
   "source": [
    "lasso_pred = lasso.predict(x_test)"
   ]
  },
  {
   "cell_type": "code",
   "execution_count": 118,
   "id": "75055994",
   "metadata": {},
   "outputs": [
    {
     "data": {
      "text/plain": [
       "array([31.99263189, 33.56261409, 33.16968133, 29.35085197, 29.41532603,\n",
       "       33.00570181, 32.24618859, 33.57987995, 32.17946599, 33.03180429,\n",
       "       32.43352237, 32.64830012, 34.42463082, 31.61671515, 32.83763259,\n",
       "       33.35142638, 29.33942467, 34.79854886, 32.38506498, 29.63719153,\n",
       "       32.36854863, 32.21265622, 32.60134175, 31.81897394, 31.16330572,\n",
       "       32.75364414, 32.88409128, 32.36320974, 32.04108928, 31.96868565,\n",
       "       33.24608236, 33.07067555, 33.54659742, 32.57214892, 31.41161583,\n",
       "       30.06340682, 32.79726231, 32.13550568, 33.36310351, 33.22497663,\n",
       "       33.25167109, 34.07840658, 33.22831682, 33.75728546, 32.90619636,\n",
       "       34.59903828, 32.34644356, 33.72050521, 31.73648451, 31.41845375,\n",
       "       32.26170559, 35.46055533, 32.15686124, 33.60932262, 29.07618954,\n",
       "       34.41195434, 33.23999395, 32.50358516, 29.88575148, 32.20406944,\n",
       "       32.0385909 , 31.44605525, 29.20463799, 34.49394409, 33.4095622 ,\n",
       "       30.24824223, 31.37474327, 30.84852284, 34.06622977, 30.49062147,\n",
       "       31.23012062, 32.0385909 , 31.43946717, 31.10541974, 33.38061921,\n",
       "       32.30257555, 32.9833469 , 32.74980427, 34.4764284 , 30.16341195,\n",
       "       33.31614515])"
      ]
     },
     "execution_count": 118,
     "metadata": {},
     "output_type": "execute_result"
    }
   ],
   "source": [
    "lasso_pred"
   ]
  },
  {
   "cell_type": "markdown",
   "id": "2f144ed9",
   "metadata": {},
   "source": [
    "# Performance Matrix"
   ]
  },
  {
   "cell_type": "code",
   "execution_count": 120,
   "id": "968a13a2",
   "metadata": {},
   "outputs": [
    {
     "name": "stdout",
     "output_type": "stream",
     "text": [
      "8.074673439626329\n",
      "2.1776037373320616\n",
      "2.8415969875452656\n"
     ]
    }
   ],
   "source": [
    "from sklearn.metrics import mean_squared_error\n",
    "from sklearn.metrics import mean_absolute_error\n",
    "print(mean_squared_error(y_test,rid_pred))\n",
    "print(mean_absolute_error(y_test,rid_pred))\n",
    "print(np.sqrt(mean_squared_error(y_test,rid_pred)))"
   ]
  },
  {
   "cell_type": "markdown",
   "id": "5ed8ca99",
   "metadata": {},
   "source": [
    "# R Square"
   ]
  },
  {
   "cell_type": "code",
   "execution_count": 121,
   "id": "1cd8c72c",
   "metadata": {},
   "outputs": [],
   "source": [
    "from sklearn.metrics import r2_score"
   ]
  },
  {
   "cell_type": "code",
   "execution_count": 124,
   "id": "0058c101",
   "metadata": {},
   "outputs": [
    {
     "name": "stdout",
     "output_type": "stream",
     "text": [
      "0.3719123543887275\n"
     ]
    }
   ],
   "source": [
    "lasso_score=r2_score(y_test,lasso_pred)\n",
    "print(score)"
   ]
  },
  {
   "cell_type": "markdown",
   "id": "da9b5097",
   "metadata": {},
   "source": [
    "# Adjusted R Square"
   ]
  },
  {
   "cell_type": "code",
   "execution_count": 126,
   "id": "e00ee01f",
   "metadata": {},
   "outputs": [
    {
     "data": {
      "text/plain": [
       "0.2934013986873185"
      ]
     },
     "execution_count": 126,
     "metadata": {},
     "output_type": "execute_result"
    }
   ],
   "source": [
    "1-(1-lasso_score)*(len(y_test))/(len(y_test)-x_test.shape[1]-1)"
   ]
  },
  {
   "cell_type": "markdown",
   "id": "0aab35a2",
   "metadata": {},
   "source": [
    "# Elastic Net Regression"
   ]
  },
  {
   "cell_type": "code",
   "execution_count": 128,
   "id": "65e39f12",
   "metadata": {},
   "outputs": [],
   "source": [
    "from sklearn.linear_model import ElasticNet"
   ]
  },
  {
   "cell_type": "code",
   "execution_count": 130,
   "id": "a0a65c49",
   "metadata": {},
   "outputs": [],
   "source": [
    "elastic=ElasticNet()"
   ]
  },
  {
   "cell_type": "code",
   "execution_count": 131,
   "id": "0337c5a9",
   "metadata": {},
   "outputs": [
    {
     "data": {
      "text/plain": [
       "ElasticNet()"
      ]
     },
     "execution_count": 131,
     "metadata": {},
     "output_type": "execute_result"
    }
   ],
   "source": [
    "elastic"
   ]
  },
  {
   "cell_type": "code",
   "execution_count": 132,
   "id": "490e0cdb",
   "metadata": {},
   "outputs": [
    {
     "data": {
      "text/plain": [
       "ElasticNet()"
      ]
     },
     "execution_count": 132,
     "metadata": {},
     "output_type": "execute_result"
    }
   ],
   "source": [
    "elastic.fit(x_train,y_train)"
   ]
  },
  {
   "cell_type": "markdown",
   "id": "6bffb384",
   "metadata": {},
   "source": [
    "# Coefficient & Intercept"
   ]
  },
  {
   "cell_type": "code",
   "execution_count": 134,
   "id": "df0bc8a4",
   "metadata": {},
   "outputs": [
    {
     "name": "stdout",
     "output_type": "stream",
     "text": [
      "[-0.77155493 -0.27327033 -0.02945645  0.70980198  0.11177449  0.20914599\n",
      "  0.04593431  0.12829249]\n"
     ]
    }
   ],
   "source": [
    "print(elastic.coef_)"
   ]
  },
  {
   "cell_type": "code",
   "execution_count": 136,
   "id": "80c9d812",
   "metadata": {},
   "outputs": [
    {
     "name": "stdout",
     "output_type": "stream",
     "text": [
      "[32.07407407]\n"
     ]
    }
   ],
   "source": [
    "print(elastic.intercept_)"
   ]
  },
  {
   "cell_type": "markdown",
   "id": "2c84e8ce",
   "metadata": {},
   "source": [
    "# Predict Test Data"
   ]
  },
  {
   "cell_type": "code",
   "execution_count": 137,
   "id": "cbfdcb43",
   "metadata": {},
   "outputs": [],
   "source": [
    "elastic_pred = elastic.predict(x_test)"
   ]
  },
  {
   "cell_type": "code",
   "execution_count": 138,
   "id": "ada84d72",
   "metadata": {},
   "outputs": [
    {
     "data": {
      "text/plain": [
       "array([31.9573208 , 33.23686908, 33.35699564, 28.69175409, 29.50702659,\n",
       "       33.21952486, 31.75246849, 33.96237735, 32.10800305, 32.71913539,\n",
       "       32.6464949 , 32.70818669, 34.28160866, 31.98757886, 32.58127398,\n",
       "       33.38088877, 29.25544946, 35.1329971 , 32.41345187, 28.81942678,\n",
       "       31.92062398, 32.01321369, 32.87611371, 32.19248582, 30.76147509,\n",
       "       32.77885483, 32.9241576 , 31.80574265, 31.84088675, 32.63570681,\n",
       "       33.35824365, 32.97725238, 33.16526411, 32.6259555 , 31.48228091,\n",
       "       29.90876877, 32.28704956, 31.73349961, 33.28556103, 32.87586141,\n",
       "       33.61368581, 34.06687234, 33.48616338, 34.31378768, 32.80354959,\n",
       "       35.56194932, 31.98083723, 34.20080511, 31.06352775, 31.3703163 ,\n",
       "       32.33015611, 36.68465163, 32.02910227, 33.90164802, 29.13016242,\n",
       "       35.33664404, 33.44975962, 32.59500157, 29.89482886, 32.07728159,\n",
       "       32.39209933, 31.39172713, 28.33121558, 35.11153428, 34.62534381,\n",
       "       30.33956758, 30.58992082, 30.41863187, 34.79501455, 29.86618003,\n",
       "       31.0520072 , 32.09680635, 31.20338706, 31.12722538, 34.01998343,\n",
       "       32.49121998, 33.0901132 , 32.02987963, 35.52196854, 29.45679071,\n",
       "       33.38350807])"
      ]
     },
     "execution_count": 138,
     "metadata": {},
     "output_type": "execute_result"
    }
   ],
   "source": [
    "elastic_pred"
   ]
  },
  {
   "cell_type": "markdown",
   "id": "702ae0fb",
   "metadata": {},
   "source": [
    "# Performance Matric"
   ]
  },
  {
   "cell_type": "code",
   "execution_count": 139,
   "id": "1589cbc1",
   "metadata": {},
   "outputs": [
    {
     "name": "stdout",
     "output_type": "stream",
     "text": [
      "8.074673439626329\n",
      "2.1776037373320616\n",
      "2.8415969875452656\n"
     ]
    }
   ],
   "source": [
    "from sklearn.metrics import mean_squared_error\n",
    "from sklearn.metrics import mean_absolute_error\n",
    "print(mean_squared_error(y_test,rid_pred))\n",
    "print(mean_absolute_error(y_test,rid_pred))\n",
    "print(np.sqrt(mean_squared_error(y_test,rid_pred)))"
   ]
  },
  {
   "cell_type": "markdown",
   "id": "7bc22700",
   "metadata": {},
   "source": [
    "# R Square"
   ]
  },
  {
   "cell_type": "code",
   "execution_count": 141,
   "id": "ac91b5c7",
   "metadata": {},
   "outputs": [
    {
     "name": "stdout",
     "output_type": "stream",
     "text": [
      "0.4279953257782334\n"
     ]
    }
   ],
   "source": [
    "from sklearn.metrics import r2_score\n",
    "elas_score = r2_score(y_test,elastic_pred)\n",
    "print(elas_score)"
   ]
  },
  {
   "cell_type": "markdown",
   "id": "67ea3170",
   "metadata": {},
   "source": [
    "# Adjusted R Square"
   ]
  },
  {
   "cell_type": "code",
   "execution_count": 143,
   "id": "7c8cb464",
   "metadata": {},
   "outputs": [
    {
     "data": {
      "text/plain": [
       "0.35649474150051264"
      ]
     },
     "execution_count": 143,
     "metadata": {},
     "output_type": "execute_result"
    }
   ],
   "source": [
    "1-(1-elas_score)*(len(y_test))/(len(y_test)-x_test.shape[1]-1)"
   ]
  },
  {
   "cell_type": "code",
   "execution_count": null,
   "id": "d9afe31e",
   "metadata": {},
   "outputs": [],
   "source": []
  }
 ],
 "metadata": {
  "kernelspec": {
   "display_name": "Python 3 (ipykernel)",
   "language": "python",
   "name": "python3"
  },
  "language_info": {
   "codemirror_mode": {
    "name": "ipython",
    "version": 3
   },
   "file_extension": ".py",
   "mimetype": "text/x-python",
   "name": "python",
   "nbconvert_exporter": "python",
   "pygments_lexer": "ipython3",
   "version": "3.9.12"
  }
 },
 "nbformat": 4,
 "nbformat_minor": 5
}
